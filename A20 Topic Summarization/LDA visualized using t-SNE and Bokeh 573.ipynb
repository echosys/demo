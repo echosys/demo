{
 "cells": [
  {
   "cell_type": "code",
   "execution_count": 1,
   "metadata": {
    "_cell_guid": "3f6672fe-a98e-4ab8-8569-2ffa42f205f7",
    "_uuid": "d70f0f19e5881195ded76767e39e72f50ce3af38"
   },
   "outputs": [
    {
     "name": "stderr",
     "output_type": "stream",
     "text": [
      "C:\\Users\\JC\\Documents\\Scripts\\PJ573_src\\cdaenv\\lib\\site-packages\\gensim\\utils.py:1197: UserWarning: detected Windows; aliasing chunkize to chunkize_serial\n",
      "  warnings.warn(\"detected Windows; aliasing chunkize to chunkize_serial\")\n"
     ]
    },
    {
     "data": {
      "text/html": [
       "\n",
       "    <div class=\"bk-root\">\n",
       "        <a href=\"https://bokeh.pydata.org\" target=\"_blank\" class=\"bk-logo bk-logo-small bk-logo-notebook\"></a>\n",
       "        <span id=\"1001\">Loading BokehJS ...</span>\n",
       "    </div>"
      ]
     },
     "metadata": {},
     "output_type": "display_data"
    },
    {
     "data": {
      "application/javascript": [
       "\n",
       "(function(root) {\n",
       "  function now() {\n",
       "    return new Date();\n",
       "  }\n",
       "\n",
       "  var force = true;\n",
       "\n",
       "  if (typeof root._bokeh_onload_callbacks === \"undefined\" || force === true) {\n",
       "    root._bokeh_onload_callbacks = [];\n",
       "    root._bokeh_is_loading = undefined;\n",
       "  }\n",
       "\n",
       "  var JS_MIME_TYPE = 'application/javascript';\n",
       "  var HTML_MIME_TYPE = 'text/html';\n",
       "  var EXEC_MIME_TYPE = 'application/vnd.bokehjs_exec.v0+json';\n",
       "  var CLASS_NAME = 'output_bokeh rendered_html';\n",
       "\n",
       "  /**\n",
       "   * Render data to the DOM node\n",
       "   */\n",
       "  function render(props, node) {\n",
       "    var script = document.createElement(\"script\");\n",
       "    node.appendChild(script);\n",
       "  }\n",
       "\n",
       "  /**\n",
       "   * Handle when an output is cleared or removed\n",
       "   */\n",
       "  function handleClearOutput(event, handle) {\n",
       "    var cell = handle.cell;\n",
       "\n",
       "    var id = cell.output_area._bokeh_element_id;\n",
       "    var server_id = cell.output_area._bokeh_server_id;\n",
       "    // Clean up Bokeh references\n",
       "    if (id != null && id in Bokeh.index) {\n",
       "      Bokeh.index[id].model.document.clear();\n",
       "      delete Bokeh.index[id];\n",
       "    }\n",
       "\n",
       "    if (server_id !== undefined) {\n",
       "      // Clean up Bokeh references\n",
       "      var cmd = \"from bokeh.io.state import curstate; print(curstate().uuid_to_server['\" + server_id + \"'].get_sessions()[0].document.roots[0]._id)\";\n",
       "      cell.notebook.kernel.execute(cmd, {\n",
       "        iopub: {\n",
       "          output: function(msg) {\n",
       "            var id = msg.content.text.trim();\n",
       "            if (id in Bokeh.index) {\n",
       "              Bokeh.index[id].model.document.clear();\n",
       "              delete Bokeh.index[id];\n",
       "            }\n",
       "          }\n",
       "        }\n",
       "      });\n",
       "      // Destroy server and session\n",
       "      var cmd = \"import bokeh.io.notebook as ion; ion.destroy_server('\" + server_id + \"')\";\n",
       "      cell.notebook.kernel.execute(cmd);\n",
       "    }\n",
       "  }\n",
       "\n",
       "  /**\n",
       "   * Handle when a new output is added\n",
       "   */\n",
       "  function handleAddOutput(event, handle) {\n",
       "    var output_area = handle.output_area;\n",
       "    var output = handle.output;\n",
       "\n",
       "    // limit handleAddOutput to display_data with EXEC_MIME_TYPE content only\n",
       "    if ((output.output_type != \"display_data\") || (!output.data.hasOwnProperty(EXEC_MIME_TYPE))) {\n",
       "      return\n",
       "    }\n",
       "\n",
       "    var toinsert = output_area.element.find(\".\" + CLASS_NAME.split(' ')[0]);\n",
       "\n",
       "    if (output.metadata[EXEC_MIME_TYPE][\"id\"] !== undefined) {\n",
       "      toinsert[toinsert.length - 1].firstChild.textContent = output.data[JS_MIME_TYPE];\n",
       "      // store reference to embed id on output_area\n",
       "      output_area._bokeh_element_id = output.metadata[EXEC_MIME_TYPE][\"id\"];\n",
       "    }\n",
       "    if (output.metadata[EXEC_MIME_TYPE][\"server_id\"] !== undefined) {\n",
       "      var bk_div = document.createElement(\"div\");\n",
       "      bk_div.innerHTML = output.data[HTML_MIME_TYPE];\n",
       "      var script_attrs = bk_div.children[0].attributes;\n",
       "      for (var i = 0; i < script_attrs.length; i++) {\n",
       "        toinsert[toinsert.length - 1].firstChild.setAttribute(script_attrs[i].name, script_attrs[i].value);\n",
       "      }\n",
       "      // store reference to server id on output_area\n",
       "      output_area._bokeh_server_id = output.metadata[EXEC_MIME_TYPE][\"server_id\"];\n",
       "    }\n",
       "  }\n",
       "\n",
       "  function register_renderer(events, OutputArea) {\n",
       "\n",
       "    function append_mime(data, metadata, element) {\n",
       "      // create a DOM node to render to\n",
       "      var toinsert = this.create_output_subarea(\n",
       "        metadata,\n",
       "        CLASS_NAME,\n",
       "        EXEC_MIME_TYPE\n",
       "      );\n",
       "      this.keyboard_manager.register_events(toinsert);\n",
       "      // Render to node\n",
       "      var props = {data: data, metadata: metadata[EXEC_MIME_TYPE]};\n",
       "      render(props, toinsert[toinsert.length - 1]);\n",
       "      element.append(toinsert);\n",
       "      return toinsert\n",
       "    }\n",
       "\n",
       "    /* Handle when an output is cleared or removed */\n",
       "    events.on('clear_output.CodeCell', handleClearOutput);\n",
       "    events.on('delete.Cell', handleClearOutput);\n",
       "\n",
       "    /* Handle when a new output is added */\n",
       "    events.on('output_added.OutputArea', handleAddOutput);\n",
       "\n",
       "    /**\n",
       "     * Register the mime type and append_mime function with output_area\n",
       "     */\n",
       "    OutputArea.prototype.register_mime_type(EXEC_MIME_TYPE, append_mime, {\n",
       "      /* Is output safe? */\n",
       "      safe: true,\n",
       "      /* Index of renderer in `output_area.display_order` */\n",
       "      index: 0\n",
       "    });\n",
       "  }\n",
       "\n",
       "  // register the mime type if in Jupyter Notebook environment and previously unregistered\n",
       "  if (root.Jupyter !== undefined) {\n",
       "    var events = require('base/js/events');\n",
       "    var OutputArea = require('notebook/js/outputarea').OutputArea;\n",
       "\n",
       "    if (OutputArea.prototype.mime_types().indexOf(EXEC_MIME_TYPE) == -1) {\n",
       "      register_renderer(events, OutputArea);\n",
       "    }\n",
       "  }\n",
       "\n",
       "  \n",
       "  if (typeof (root._bokeh_timeout) === \"undefined\" || force === true) {\n",
       "    root._bokeh_timeout = Date.now() + 5000;\n",
       "    root._bokeh_failed_load = false;\n",
       "  }\n",
       "\n",
       "  var NB_LOAD_WARNING = {'data': {'text/html':\n",
       "     \"<div style='background-color: #fdd'>\\n\"+\n",
       "     \"<p>\\n\"+\n",
       "     \"BokehJS does not appear to have successfully loaded. If loading BokehJS from CDN, this \\n\"+\n",
       "     \"may be due to a slow or bad network connection. Possible fixes:\\n\"+\n",
       "     \"</p>\\n\"+\n",
       "     \"<ul>\\n\"+\n",
       "     \"<li>re-rerun `output_notebook()` to attempt to load from CDN again, or</li>\\n\"+\n",
       "     \"<li>use INLINE resources instead, as so:</li>\\n\"+\n",
       "     \"</ul>\\n\"+\n",
       "     \"<code>\\n\"+\n",
       "     \"from bokeh.resources import INLINE\\n\"+\n",
       "     \"output_notebook(resources=INLINE)\\n\"+\n",
       "     \"</code>\\n\"+\n",
       "     \"</div>\"}};\n",
       "\n",
       "  function display_loaded() {\n",
       "    var el = document.getElementById(\"1001\");\n",
       "    if (el != null) {\n",
       "      el.textContent = \"BokehJS is loading...\";\n",
       "    }\n",
       "    if (root.Bokeh !== undefined) {\n",
       "      if (el != null) {\n",
       "        el.textContent = \"BokehJS \" + root.Bokeh.version + \" successfully loaded.\";\n",
       "      }\n",
       "    } else if (Date.now() < root._bokeh_timeout) {\n",
       "      setTimeout(display_loaded, 100)\n",
       "    }\n",
       "  }\n",
       "\n",
       "\n",
       "  function run_callbacks() {\n",
       "    try {\n",
       "      root._bokeh_onload_callbacks.forEach(function(callback) {\n",
       "        if (callback != null)\n",
       "          callback();\n",
       "      });\n",
       "    } finally {\n",
       "      delete root._bokeh_onload_callbacks\n",
       "    }\n",
       "    console.debug(\"Bokeh: all callbacks have finished\");\n",
       "  }\n",
       "\n",
       "  function load_libs(css_urls, js_urls, callback) {\n",
       "    if (css_urls == null) css_urls = [];\n",
       "    if (js_urls == null) js_urls = [];\n",
       "\n",
       "    root._bokeh_onload_callbacks.push(callback);\n",
       "    if (root._bokeh_is_loading > 0) {\n",
       "      console.debug(\"Bokeh: BokehJS is being loaded, scheduling callback at\", now());\n",
       "      return null;\n",
       "    }\n",
       "    if (js_urls == null || js_urls.length === 0) {\n",
       "      run_callbacks();\n",
       "      return null;\n",
       "    }\n",
       "    console.debug(\"Bokeh: BokehJS not loaded, scheduling load and callback at\", now());\n",
       "    root._bokeh_is_loading = css_urls.length + js_urls.length;\n",
       "\n",
       "    function on_load() {\n",
       "      root._bokeh_is_loading--;\n",
       "      if (root._bokeh_is_loading === 0) {\n",
       "        console.debug(\"Bokeh: all BokehJS libraries/stylesheets loaded\");\n",
       "        run_callbacks()\n",
       "      }\n",
       "    }\n",
       "\n",
       "    function on_error() {\n",
       "      console.error(\"failed to load \" + url);\n",
       "    }\n",
       "\n",
       "    for (var i = 0; i < css_urls.length; i++) {\n",
       "      var url = css_urls[i];\n",
       "      const element = document.createElement(\"link\");\n",
       "      element.onload = on_load;\n",
       "      element.onerror = on_error;\n",
       "      element.rel = \"stylesheet\";\n",
       "      element.type = \"text/css\";\n",
       "      element.href = url;\n",
       "      console.debug(\"Bokeh: injecting link tag for BokehJS stylesheet: \", url);\n",
       "      document.body.appendChild(element);\n",
       "    }\n",
       "\n",
       "    for (var i = 0; i < js_urls.length; i++) {\n",
       "      var url = js_urls[i];\n",
       "      var element = document.createElement('script');\n",
       "      element.onload = on_load;\n",
       "      element.onerror = on_error;\n",
       "      element.async = false;\n",
       "      element.src = url;\n",
       "      console.debug(\"Bokeh: injecting script tag for BokehJS library: \", url);\n",
       "      document.head.appendChild(element);\n",
       "    }\n",
       "  };var element = document.getElementById(\"1001\");\n",
       "  if (element == null) {\n",
       "    console.error(\"Bokeh: ERROR: autoload.js configured with elementid '1001' but no matching script tag was found. \")\n",
       "    return false;\n",
       "  }\n",
       "\n",
       "  function inject_raw_css(css) {\n",
       "    const element = document.createElement(\"style\");\n",
       "    element.appendChild(document.createTextNode(css));\n",
       "    document.body.appendChild(element);\n",
       "  }\n",
       "\n",
       "  var js_urls = [\"https://cdn.pydata.org/bokeh/release/bokeh-1.2.0.min.js\", \"https://cdn.pydata.org/bokeh/release/bokeh-widgets-1.2.0.min.js\", \"https://cdn.pydata.org/bokeh/release/bokeh-tables-1.2.0.min.js\", \"https://cdn.pydata.org/bokeh/release/bokeh-gl-1.2.0.min.js\"];\n",
       "  var css_urls = [\"https://cdn.pydata.org/bokeh/release/bokeh-1.2.0.min.css\", \"https://cdn.pydata.org/bokeh/release/bokeh-widgets-1.2.0.min.css\", \"https://cdn.pydata.org/bokeh/release/bokeh-tables-1.2.0.min.css\"];\n",
       "\n",
       "  var inline_js = [\n",
       "    function(Bokeh) {\n",
       "      Bokeh.set_log_level(\"info\");\n",
       "    },\n",
       "    \n",
       "    function(Bokeh) {\n",
       "      \n",
       "    },\n",
       "    function(Bokeh) {} // ensure no trailing comma for IE\n",
       "  ];\n",
       "\n",
       "  function run_inline_js() {\n",
       "    \n",
       "    if ((root.Bokeh !== undefined) || (force === true)) {\n",
       "      for (var i = 0; i < inline_js.length; i++) {\n",
       "        inline_js[i].call(root, root.Bokeh);\n",
       "      }if (force === true) {\n",
       "        display_loaded();\n",
       "      }} else if (Date.now() < root._bokeh_timeout) {\n",
       "      setTimeout(run_inline_js, 100);\n",
       "    } else if (!root._bokeh_failed_load) {\n",
       "      console.log(\"Bokeh: BokehJS failed to load within specified timeout.\");\n",
       "      root._bokeh_failed_load = true;\n",
       "    } else if (force !== true) {\n",
       "      var cell = $(document.getElementById(\"1001\")).parents('.cell').data().cell;\n",
       "      cell.output_area.append_execute_result(NB_LOAD_WARNING)\n",
       "    }\n",
       "\n",
       "  }\n",
       "\n",
       "  if (root._bokeh_is_loading === 0) {\n",
       "    console.debug(\"Bokeh: BokehJS loaded, going straight to plotting\");\n",
       "    run_inline_js();\n",
       "  } else {\n",
       "    load_libs(css_urls, js_urls, function() {\n",
       "      console.debug(\"Bokeh: BokehJS plotting callback run at\", now());\n",
       "      run_inline_js();\n",
       "    });\n",
       "  }\n",
       "}(window));"
      ],
      "application/vnd.bokehjs_load.v0+json": "\n(function(root) {\n  function now() {\n    return new Date();\n  }\n\n  var force = true;\n\n  if (typeof root._bokeh_onload_callbacks === \"undefined\" || force === true) {\n    root._bokeh_onload_callbacks = [];\n    root._bokeh_is_loading = undefined;\n  }\n\n  \n\n  \n  if (typeof (root._bokeh_timeout) === \"undefined\" || force === true) {\n    root._bokeh_timeout = Date.now() + 5000;\n    root._bokeh_failed_load = false;\n  }\n\n  var NB_LOAD_WARNING = {'data': {'text/html':\n     \"<div style='background-color: #fdd'>\\n\"+\n     \"<p>\\n\"+\n     \"BokehJS does not appear to have successfully loaded. If loading BokehJS from CDN, this \\n\"+\n     \"may be due to a slow or bad network connection. Possible fixes:\\n\"+\n     \"</p>\\n\"+\n     \"<ul>\\n\"+\n     \"<li>re-rerun `output_notebook()` to attempt to load from CDN again, or</li>\\n\"+\n     \"<li>use INLINE resources instead, as so:</li>\\n\"+\n     \"</ul>\\n\"+\n     \"<code>\\n\"+\n     \"from bokeh.resources import INLINE\\n\"+\n     \"output_notebook(resources=INLINE)\\n\"+\n     \"</code>\\n\"+\n     \"</div>\"}};\n\n  function display_loaded() {\n    var el = document.getElementById(\"1001\");\n    if (el != null) {\n      el.textContent = \"BokehJS is loading...\";\n    }\n    if (root.Bokeh !== undefined) {\n      if (el != null) {\n        el.textContent = \"BokehJS \" + root.Bokeh.version + \" successfully loaded.\";\n      }\n    } else if (Date.now() < root._bokeh_timeout) {\n      setTimeout(display_loaded, 100)\n    }\n  }\n\n\n  function run_callbacks() {\n    try {\n      root._bokeh_onload_callbacks.forEach(function(callback) {\n        if (callback != null)\n          callback();\n      });\n    } finally {\n      delete root._bokeh_onload_callbacks\n    }\n    console.debug(\"Bokeh: all callbacks have finished\");\n  }\n\n  function load_libs(css_urls, js_urls, callback) {\n    if (css_urls == null) css_urls = [];\n    if (js_urls == null) js_urls = [];\n\n    root._bokeh_onload_callbacks.push(callback);\n    if (root._bokeh_is_loading > 0) {\n      console.debug(\"Bokeh: BokehJS is being loaded, scheduling callback at\", now());\n      return null;\n    }\n    if (js_urls == null || js_urls.length === 0) {\n      run_callbacks();\n      return null;\n    }\n    console.debug(\"Bokeh: BokehJS not loaded, scheduling load and callback at\", now());\n    root._bokeh_is_loading = css_urls.length + js_urls.length;\n\n    function on_load() {\n      root._bokeh_is_loading--;\n      if (root._bokeh_is_loading === 0) {\n        console.debug(\"Bokeh: all BokehJS libraries/stylesheets loaded\");\n        run_callbacks()\n      }\n    }\n\n    function on_error() {\n      console.error(\"failed to load \" + url);\n    }\n\n    for (var i = 0; i < css_urls.length; i++) {\n      var url = css_urls[i];\n      const element = document.createElement(\"link\");\n      element.onload = on_load;\n      element.onerror = on_error;\n      element.rel = \"stylesheet\";\n      element.type = \"text/css\";\n      element.href = url;\n      console.debug(\"Bokeh: injecting link tag for BokehJS stylesheet: \", url);\n      document.body.appendChild(element);\n    }\n\n    for (var i = 0; i < js_urls.length; i++) {\n      var url = js_urls[i];\n      var element = document.createElement('script');\n      element.onload = on_load;\n      element.onerror = on_error;\n      element.async = false;\n      element.src = url;\n      console.debug(\"Bokeh: injecting script tag for BokehJS library: \", url);\n      document.head.appendChild(element);\n    }\n  };var element = document.getElementById(\"1001\");\n  if (element == null) {\n    console.error(\"Bokeh: ERROR: autoload.js configured with elementid '1001' but no matching script tag was found. \")\n    return false;\n  }\n\n  function inject_raw_css(css) {\n    const element = document.createElement(\"style\");\n    element.appendChild(document.createTextNode(css));\n    document.body.appendChild(element);\n  }\n\n  var js_urls = [\"https://cdn.pydata.org/bokeh/release/bokeh-1.2.0.min.js\", \"https://cdn.pydata.org/bokeh/release/bokeh-widgets-1.2.0.min.js\", \"https://cdn.pydata.org/bokeh/release/bokeh-tables-1.2.0.min.js\", \"https://cdn.pydata.org/bokeh/release/bokeh-gl-1.2.0.min.js\"];\n  var css_urls = [\"https://cdn.pydata.org/bokeh/release/bokeh-1.2.0.min.css\", \"https://cdn.pydata.org/bokeh/release/bokeh-widgets-1.2.0.min.css\", \"https://cdn.pydata.org/bokeh/release/bokeh-tables-1.2.0.min.css\"];\n\n  var inline_js = [\n    function(Bokeh) {\n      Bokeh.set_log_level(\"info\");\n    },\n    \n    function(Bokeh) {\n      \n    },\n    function(Bokeh) {} // ensure no trailing comma for IE\n  ];\n\n  function run_inline_js() {\n    \n    if ((root.Bokeh !== undefined) || (force === true)) {\n      for (var i = 0; i < inline_js.length; i++) {\n        inline_js[i].call(root, root.Bokeh);\n      }if (force === true) {\n        display_loaded();\n      }} else if (Date.now() < root._bokeh_timeout) {\n      setTimeout(run_inline_js, 100);\n    } else if (!root._bokeh_failed_load) {\n      console.log(\"Bokeh: BokehJS failed to load within specified timeout.\");\n      root._bokeh_failed_load = true;\n    } else if (force !== true) {\n      var cell = $(document.getElementById(\"1001\")).parents('.cell').data().cell;\n      cell.output_area.append_execute_result(NB_LOAD_WARNING)\n    }\n\n  }\n\n  if (root._bokeh_is_loading === 0) {\n    console.debug(\"Bokeh: BokehJS loaded, going straight to plotting\");\n    run_inline_js();\n  } else {\n    load_libs(css_urls, js_urls, function() {\n      console.debug(\"Bokeh: BokehJS plotting callback run at\", now());\n      run_inline_js();\n    });\n  }\n}(window));"
     },
     "metadata": {},
     "output_type": "display_data"
    }
   ],
   "source": [
    "import pandas as pd\n",
    "import numpy as np\n",
    "# LDA, tSNE\n",
    "from sklearn.manifold import TSNE\n",
    "from gensim.models.ldamodel import LdaModel\n",
    "# NLTK\n",
    "from nltk.tokenize import RegexpTokenizer\n",
    "from nltk.stem.snowball import SnowballStemmer\n",
    "from nltk.corpus import stopwords\n",
    "import re\n",
    "# Visualization\n",
    "import matplotlib.pyplot as plt\n",
    "import matplotlib.patches as mpatches\n",
    "import matplotlib\n",
    "%matplotlib inline\n",
    "import seaborn as sns\n",
    "# Bokeh\n",
    "from bokeh.io import output_notebook\n",
    "from bokeh.plotting import figure, show\n",
    "from bokeh.models import HoverTool, CustomJS, ColumnDataSource, Slider\n",
    "from bokeh.layouts import column\n",
    "from bokeh.palettes import all_palettes\n",
    "output_notebook()"
   ]
  },
  {
   "cell_type": "markdown",
   "metadata": {
    "_cell_guid": "1f1d92b9-af21-47ba-a756-e70bf7ca984c",
    "_uuid": "4f55c83e1638be7971359264469ba7185d1e5656"
   },
   "source": [
    "## Loading data\n",
    "Let's load the dataset with abstracts and glimpse some first rows of a abstract."
   ]
  },
  {
   "cell_type": "code",
   "execution_count": 2,
   "metadata": {
    "_cell_guid": "eda986a3-0134-4d61-881a-3573182b7843",
    "_uuid": "eec14a4ce07160a4e1de9f61a542662e24652f5d"
   },
   "outputs": [
    {
     "name": "stdout",
     "output_type": "stream",
     "text": [
      "A method for controlling a selective catalytic reduction injection system having a storage tank, a pump, a delivery line, and an injection nozzle includes monitoring the selective catalytic reduction injection system, determining a selective catalytic reduction injector system effective area ratio, comparing the selective catalytic reduction injector system effective area ratio to a threshold, calculating a compensation factor upon surpassing the threshold, and modifying the commanded injected m\n"
     ]
    }
   ],
   "source": [
    "#df = pd.read_csv(\"../input/573pjv3/gp_v3.csv\")\n",
    "df = pd.read_csv(\"./data/gp_v3.csv\")\n",
    "print(df.abstract[0][:500])"
   ]
  },
  {
   "cell_type": "markdown",
   "metadata": {
    "_cell_guid": "e68a7238-1a5f-4f6e-828e-d80fe9892ce8",
    "_uuid": "addfb8559a9354d5e2797a6efd947b49e9fb9694"
   },
   "source": [
    "## Processing\n",
    "Here we'll process our corpus using some standard technics ..."
   ]
  },
  {
   "cell_type": "markdown",
   "metadata": {
    "_cell_guid": "c70555aa-8e61-4834-9da6-d84bba5ee9a1",
    "_uuid": "cf4243b89e203ef688bca66acae03e49c394aed2"
   },
   "source": [
    "### Initial cleaning\n",
    "Just removing numbers and reducing all words to the lowercase. Let also see what we'll get:"
   ]
  },
  {
   "cell_type": "code",
   "execution_count": 3,
   "metadata": {
    "_cell_guid": "d7089734-97df-46c1-9761-93e07aff91a2",
    "_uuid": "eabf59cfe5f4b051574fa71a6044bb84b280da05"
   },
   "outputs": [
    {
     "name": "stdout",
     "output_type": "stream",
     "text": [
      "a method for controlling a selective catalytic reduction injection system having a storage tank, a pump, a delivery line, and an injection nozzle includes monitoring the selective catalytic reduction injection system, determining a selective catalytic reduction injector system effective area ratio, comparing the selective catalytic reduction injector system effective area ratio to a threshold, calculating a compensation factor upon surpassing the threshold, and modifying the commanded injected m\n"
     ]
    }
   ],
   "source": [
    "# Removing numerals:\n",
    "#df['paper_text_tokens'] = df[df.abstract.str.strip() != '']\n",
    "#print(df['paper_text_tokens'][0][:500])\n",
    "\n",
    "df['paper_text_tokens'] = df.abstract.map(lambda x: re.sub(r'\\d+', '', str(x)) )\n",
    "# Lower case:\n",
    "df['paper_text_tokens'] = df.paper_text_tokens.map(lambda x: x.lower())\n",
    "print(df['paper_text_tokens'][0][:500])"
   ]
  },
  {
   "cell_type": "markdown",
   "metadata": {
    "_cell_guid": "59851aa9-4871-4ead-85e1-9ec490070357",
    "_uuid": "83dad662040fee212402879e0d9fd1c809ed82f5"
   },
   "source": [
    "### Tokenize\n",
    "Spliting texts into separete words, also removing punctuanions and other stuff. After that procedure we should obtain texts as lists of words in lowercase:"
   ]
  },
  {
   "cell_type": "code",
   "execution_count": 4,
   "metadata": {
    "_cell_guid": "d179b209-346e-4115-ab19-f1a82f291440",
    "_uuid": "fadb1151dc68bcbaf674b10d13506e30d538fd77",
    "scrolled": true
   },
   "outputs": [
    {
     "name": "stdout",
     "output_type": "stream",
     "text": [
      "['a', 'method', 'for', 'controlling', 'a', 'selective', 'catalytic', 'reduction', 'injection', 'system', 'having', 'a', 'storage', 'tank', 'a', 'pump', 'a', 'delivery', 'line', 'and', 'an', 'injection', 'nozzle', 'includes', 'monitoring']\n"
     ]
    }
   ],
   "source": [
    "df['paper_text_tokens'] = df.paper_text_tokens.map(lambda x: RegexpTokenizer(r'\\w+').tokenize(x))\n",
    "print(df['paper_text_tokens'][0][:25])"
   ]
  },
  {
   "cell_type": "markdown",
   "metadata": {
    "_cell_guid": "21b77826-361f-4752-80ef-e4538c4b4016",
    "_uuid": "ddd4528233edc88588624b893d335366074db83f"
   },
   "source": [
    "### Stemming\n",
    "Stemming is the process of reducing inflected (or sometimes derived) words to their word stem, base or root form ... The stem need not be identical to the morphological root of the word (see  [[Wikipedia]](https://en.wikipedia.org/wiki/Stemming) for more details). We'll use `SnowballStemmer` from `nltk` package."
   ]
  },
  {
   "cell_type": "code",
   "execution_count": 5,
   "metadata": {
    "_cell_guid": "db774646-833a-4c22-8b3a-7e204fce0b79",
    "_uuid": "a27597f04427eea99a861cbcbec1c6e854ddca01"
   },
   "outputs": [
    {
     "name": "stdout",
     "output_type": "stream",
     "text": [
      "['a', 'method', 'for', 'control', 'a', 'select', 'catalyt', 'reduct', 'inject', 'system', 'have', 'a', 'storag', 'tank', 'a', 'pump', 'a', 'deliveri', 'line', 'and', 'an', 'inject', 'nozzl', 'includ', 'monitor']\n"
     ]
    }
   ],
   "source": [
    "snowball = SnowballStemmer(\"english\")  \n",
    "df['paper_text_tokens'] = df.paper_text_tokens.map(lambda x: [snowball.stem(token) for token in x])\n",
    "print(df['paper_text_tokens'][0][:25])"
   ]
  },
  {
   "cell_type": "code",
   "execution_count": null,
   "metadata": {},
   "outputs": [],
   "source": []
  },
  {
   "cell_type": "markdown",
   "metadata": {
    "_cell_guid": "2fd438f7-f8c1-4250-a63b-747db42d9a49",
    "_uuid": "f01314e437a838fd4cbf20b81cfe89bb6b93bb85"
   },
   "source": [
    "### Stop words\n",
    " Removing common English words like  `and`, `the`, `of` and so on."
   ]
  },
  {
   "cell_type": "code",
   "execution_count": 6,
   "metadata": {
    "_cell_guid": "bf3b85ad-8c2a-4786-9c25-eeb3c299e257",
    "_uuid": "29982c301e061c837df7138ec561844a393aa382"
   },
   "outputs": [
    {
     "name": "stdout",
     "output_type": "stream",
     "text": [
      "['method', 'control', 'select', 'catalyt', 'reduct', 'inject', 'system', 'storag', 'tank', 'pump', 'deliveri', 'line', 'inject', 'nozzl', 'includ', 'monitor', 'select', 'catalyt', 'reduct', 'inject', 'system', 'determin', 'select', 'catalyt', 'reduct']\n"
     ]
    }
   ],
   "source": [
    "stop_en = stopwords.words('english')\n",
    "df['paper_text_tokens'] = df.paper_text_tokens.map(lambda x: [t for t in x if t not in stop_en]) \n",
    "print(df['paper_text_tokens'][0][:25])"
   ]
  },
  {
   "cell_type": "markdown",
   "metadata": {
    "_cell_guid": "c590d3f1-c930-4554-9db8-f644292da77d",
    "_uuid": "e7746cdf1611036902e3d7d0422d2c36355e6ae9"
   },
   "source": [
    "### Final cleaning\n",
    "Here we'll remove all \"extremely short\" words (that have less than 2 characters):"
   ]
  },
  {
   "cell_type": "code",
   "execution_count": 7,
   "metadata": {
    "_cell_guid": "fd8efbac-1c24-42b3-85d6-eff646daf7ed",
    "_uuid": "e957e276e204260504f56973c3418c9d61630e21"
   },
   "outputs": [
    {
     "name": "stdout",
     "output_type": "stream",
     "text": [
      "['method', 'control', 'select', 'catalyt', 'reduct', 'inject', 'system', 'storag', 'tank', 'pump', 'deliveri', 'line', 'inject', 'nozzl', 'includ', 'monitor', 'select', 'catalyt', 'reduct', 'inject', 'system', 'determin', 'select', 'catalyt', 'reduct']\n"
     ]
    }
   ],
   "source": [
    "df['paper_text_tokens'] = df.paper_text_tokens.map(lambda x: [t for t in x if len(t) > 1])\n",
    "print(df['paper_text_tokens'][0][:25])"
   ]
  },
  {
   "cell_type": "markdown",
   "metadata": {
    "_cell_guid": "c7daa2f1-cc2c-42d5-9a2e-84d66ab16a08",
    "_uuid": "748485c63116b471a7334c32e6623c55ca89bc1d",
    "collapsed": true
   },
   "source": [
    "## LDA\n",
    "Finally, let's use LDA ([Latent Dirichlet allocation](https://en.wikipedia.org/wiki/Latent_Dirichlet_allocation)) to extract topic structure from the corpus of texts."
   ]
  },
  {
   "cell_type": "code",
   "execution_count": 8,
   "metadata": {
    "_cell_guid": "43974244-e1c6-4bd1-adfd-20f24adfc141",
    "_uuid": "6a7693efaf4cd6ffd355c0dae5a61827641a4c36"
   },
   "outputs": [
    {
     "name": "stdout",
     "output_type": "stream",
     "text": [
      "[[(0, 1), (1, 2), (2, 2), (3, 4), (4, 1), (5, 1), (6, 2), (7, 1), (8, 1), (9, 1), (10, 2), (11, 2), (12, 1), (13, 4), (14, 2), (15, 1), (16, 1), (17, 1), (18, 1), (19, 1), (20, 1), (21, 1), (22, 2), (23, 4), (24, 4), (25, 1), (26, 1), (27, 4), (28, 1), (29, 2), (30, 1)]]\n"
     ]
    }
   ],
   "source": [
    "from gensim import corpora, models\n",
    "np.random.seed(2017)\n",
    "texts = df['paper_text_tokens'].values\n",
    "dictionary = corpora.Dictionary(texts)\n",
    "corpus = [dictionary.doc2bow(text) for text in texts]\n",
    "ldamodel = models.ldamodel.LdaModel(corpus, id2word=dictionary, \n",
    "                                    num_topics=5, passes=15, minimum_probability=0)\n",
    "print(corpus[0:1])\n",
    "#print(ldamodel)   #how to print topics \n",
    "#print(y for (x,y) in ldamodel[corpus[0:2]])"
   ]
  },
  {
   "cell_type": "markdown",
   "metadata": {
    "_cell_guid": "0549bf09-2256-42fe-9e28-602cd6206790",
    "_uuid": "bd304c6d5db35917fc45c578e8f8d7fd4086eb4e"
   },
   "source": [
    "Refactoring results of LDA into numpy matrix (`number_of_papers` x `number_of_topics`)."
   ]
  },
  {
   "cell_type": "code",
   "execution_count": 9,
   "metadata": {
    "_cell_guid": "bd31b9d1-4fa8-4f0c-ab2a-58c0103f5647",
    "_uuid": "bc1c2d4decad1e1366cc798160739e07b02d0e31"
   },
   "outputs": [
    {
     "name": "stdout",
     "output_type": "stream",
     "text": [
      "[[0.00366804 0.00371896 0.00376967 0.9851748  0.00366857]\n",
      " [0.00287733 0.00289006 0.00287712 0.988478   0.00287748]\n",
      " [0.00446486 0.00445896 0.00449159 0.9821179  0.00446669]\n",
      " [0.00379405 0.00386218 0.00381216 0.9846725  0.00385915]\n",
      " [0.00175862 0.00175866 0.0017661  0.99295384 0.00176279]]\n"
     ]
    }
   ],
   "source": [
    "hm = np.array([[y for (x,y) in ldamodel[corpus[i]]] for i in range(len(corpus))])\n",
    "print(hm[0:5][:25])"
   ]
  },
  {
   "cell_type": "markdown",
   "metadata": {
    "_cell_guid": "6adc9d41-e65e-41ff-bb8d-b6e880c54fde",
    "_uuid": "ae589e1203f467b2768f702d7c9a185e1782d730"
   },
   "source": [
    "And reduce dimensionality using t-SNE algorithm:"
   ]
  },
  {
   "cell_type": "code",
   "execution_count": 10,
   "metadata": {
    "_cell_guid": "681d18a4-5d6e-4e09-aea0-ca99149129d0",
    "_uuid": "22aac87fec4d7fa651d8920fe6bb4cb3d8b86eba"
   },
   "outputs": [],
   "source": [
    "tsne = TSNE(random_state=2017, perplexity=80)\n",
    "embedding = tsne.fit_transform(hm)\n",
    "embedding = pd.DataFrame(embedding, columns=['x','y'])\n",
    "embedding['hue'] = hm.argmax(axis=1)"
   ]
  },
  {
   "cell_type": "markdown",
   "metadata": {
    "_cell_guid": "811e2566-9fb6-41cc-aa2e-79151fa2fd76",
    "_kg_hide-input": false,
    "_uuid": "1fa143e6622087f04174e10af61a56a6a11d427a"
   },
   "source": [
    "## Ploting\n",
    "Using Bokeh for scatter plot with interactions. Hover mouse over a dot to see the title of the respective paper:"
   ]
  },
  {
   "cell_type": "code",
   "execution_count": 11,
   "metadata": {
    "_cell_guid": "97fa8b2e-7cda-4146-9c1a-8207c71f18f2",
    "_kg_hide-input": true,
    "_uuid": "fec8f21fc2db8037e5724c71c5c23b66b49b02c8",
    "scrolled": false
   },
   "outputs": [],
   "source": [
    "source = ColumnDataSource(\n",
    "        data=dict(\n",
    "            x = embedding.x,\n",
    "            y = embedding.y,\n",
    "            colors = [all_palettes['Set1'][8][i] for i in embedding.hue],\n",
    "            #label=p_df['clusters'].apply(lambda l: top_labels[l]),\n",
    "            title = df.title,\n",
    "            year = df.year,\n",
    "            alpha = [0.9] * embedding.shape[0],\n",
    "            size = [7] * embedding.shape[0]\n",
    "        )\n",
    "    )\n",
    "hover_tsne = HoverTool(names=[\"df\"], tooltips=\"\"\"\n",
    "    <div style=\"margin: 10\">\n",
    "        <div style=\"margin: 0 auto; width:300px;\">\n",
    "            <span style=\"font-size: 12px; font-weight: bold;\">Title:</span>\n",
    "            <span style=\"font-size: 12px\">@title</span>\n",
    "            <span style=\"font-size: 12px; font-weight: bold;\">Year:</span>\n",
    "            <span style=\"font-size: 12px\">@year</span>\n",
    "        </div>\n",
    "    </div>\n",
    "    \"\"\")\n",
    "tools_tsne = [hover_tsne, 'pan', 'wheel_zoom', 'reset']\n",
    "plot_tsne = figure(plot_width=700, plot_height=700, tools=tools_tsne, title='Papers')\n",
    "plot_tsne.circle('x', 'y', size='size', fill_color='colors', \n",
    "                 alpha='alpha', line_alpha=0, line_width=0.01, source=source, name=\"df\")\n",
    "\n",
    "callback = CustomJS(args=dict(source=source), code=\"\"\"\n",
    "    var data = source.data;\n",
    "    var f = cb_obj.value\n",
    "    x = data['x']\n",
    "    y = data['y']\n",
    "    colors = data['colors']\n",
    "    alpha = data['alpha']\n",
    "    title = data['title']\n",
    "    year = data['year']\n",
    "    size = data['size']\n",
    "    for (i = 0; i < x.length; i++) {\n",
    "        if (year[i] <= f) {\n",
    "            alpha[i] = 0.9\n",
    "            size[i] = 7\n",
    "        } else {\n",
    "            alpha[i] = 0.05\n",
    "            size[i] = 4\n",
    "        }\n",
    "    }\n",
    "    source.trigger('change');\n",
    "\"\"\")\n",
    "\n",
    "slider = Slider(start=df.year.min(), end=df.year.max(), value=2016, step=1, title=\"Before year\")\n",
    "slider.js_on_change('value', callback)\n",
    "\n",
    "layout = column(slider, plot_tsne)"
   ]
  },
  {
   "cell_type": "code",
   "execution_count": 12,
   "metadata": {},
   "outputs": [
    {
     "data": {
      "text/html": [
       "\n",
       "\n",
       "\n",
       "\n",
       "\n",
       "\n",
       "  <div class=\"bk-root\" id=\"71d4342f-96db-44a3-b9fa-eae373615f22\" data-root-id=\"1040\"></div>\n"
      ]
     },
     "metadata": {},
     "output_type": "display_data"
    },
    {
     "data": {
      "application/javascript": [
       "(function(root) {\n",
       "  function embed_document(root) {\n",
       "    \n",
       "  var docs_json = {\"f1b2e692-7d04-4678-acb1-9e21672ef1a9\":{\"roots\":{\"references\":[{\"attributes\":{\"children\":[{\"id\":\"1039\",\"type\":\"Slider\"},{\"id\":\"1004\",\"subtype\":\"Figure\",\"type\":\"Plot\"}]},\"id\":\"1040\",\"type\":\"Column\"},{\"attributes\":{\"fill_alpha\":{\"field\":\"alpha\"},\"fill_color\":{\"field\":\"colors\"},\"line_alpha\":{\"value\":0},\"line_color\":{\"value\":\"#1f77b4\"},\"line_width\":{\"value\":0.01},\"size\":{\"field\":\"size\",\"units\":\"screen\"},\"x\":{\"field\":\"x\"},\"y\":{\"field\":\"y\"}},\"id\":\"1034\",\"type\":\"Circle\"},{\"attributes\":{},\"id\":\"1011\",\"type\":\"LinearScale\"},{\"attributes\":{},\"id\":\"1013\",\"type\":\"LinearScale\"},{\"attributes\":{\"callback\":null,\"names\":[\"df\"],\"tooltips\":\"\\n    <div style=\\\"margin: 10\\\">\\n        <div style=\\\"margin: 0 auto; width:300px;\\\">\\n            <span style=\\\"font-size: 12px; font-weight: bold;\\\">Title:</span>\\n            <span style=\\\"font-size: 12px\\\">@title</span>\\n            <span style=\\\"font-size: 12px; font-weight: bold;\\\">Year:</span>\\n            <span style=\\\"font-size: 12px\\\">@year</span>\\n        </div>\\n    </div>\\n    \"},\"id\":\"1003\",\"type\":\"HoverTool\"},{\"attributes\":{},\"id\":\"1021\",\"type\":\"BasicTicker\"},{\"attributes\":{\"formatter\":{\"id\":\"1043\",\"type\":\"BasicTickFormatter\"},\"ticker\":{\"id\":\"1016\",\"type\":\"BasicTicker\"}},\"id\":\"1015\",\"type\":\"LinearAxis\"},{\"attributes\":{\"source\":{\"id\":\"1002\",\"type\":\"ColumnDataSource\"}},\"id\":\"1037\",\"type\":\"CDSView\"},{\"attributes\":{\"dimension\":1,\"ticker\":{\"id\":\"1021\",\"type\":\"BasicTicker\"}},\"id\":\"1024\",\"type\":\"Grid\"},{\"attributes\":{},\"id\":\"1046\",\"type\":\"Selection\"},{\"attributes\":{\"fill_alpha\":{\"value\":0.1},\"fill_color\":{\"value\":\"#1f77b4\"},\"line_alpha\":{\"value\":0.1},\"line_color\":{\"value\":\"#1f77b4\"},\"line_width\":{\"value\":0.01},\"size\":{\"field\":\"size\",\"units\":\"screen\"},\"x\":{\"field\":\"x\"},\"y\":{\"field\":\"y\"}},\"id\":\"1035\",\"type\":\"Circle\"},{\"attributes\":{\"callback\":null,\"data\":{\"alpha\":[0.9,0.9,0.9,0.9,0.9,0.9,0.9,0.9,0.9,0.9,0.9,0.9,0.9,0.9,0.9,0.9,0.9,0.9,0.9,0.9,0.9,0.9,0.9,0.9,0.9,0.9,0.9,0.9,0.9,0.9,0.9,0.9,0.9,0.9,0.9,0.9,0.9,0.9,0.9,0.9,0.9,0.9,0.9,0.9,0.9,0.9,0.9,0.9,0.9,0.9,0.9,0.9,0.9,0.9,0.9,0.9,0.9,0.9,0.9,0.9,0.9,0.9,0.9,0.9,0.9,0.9,0.9,0.9,0.9,0.9,0.9,0.9,0.9,0.9,0.9,0.9,0.9,0.9,0.9,0.9,0.9,0.9,0.9,0.9,0.9,0.9,0.9,0.9,0.9,0.9,0.9,0.9,0.9,0.9,0.9,0.9,0.9,0.9,0.9,0.9,0.9,0.9,0.9,0.9,0.9,0.9,0.9,0.9,0.9,0.9,0.9,0.9,0.9,0.9,0.9,0.9,0.9,0.9,0.9,0.9,0.9,0.9,0.9,0.9,0.9,0.9,0.9,0.9,0.9,0.9,0.9,0.9,0.9,0.9,0.9,0.9,0.9,0.9,0.9,0.9,0.9,0.9,0.9,0.9,0.9,0.9,0.9,0.9,0.9,0.9,0.9,0.9,0.9,0.9,0.9,0.9,0.9,0.9,0.9,0.9,0.9,0.9,0.9,0.9,0.9,0.9,0.9,0.9,0.9,0.9,0.9,0.9,0.9,0.9,0.9,0.9,0.9,0.9,0.9,0.9,0.9,0.9,0.9,0.9,0.9,0.9,0.9,0.9,0.9,0.9,0.9,0.9,0.9,0.9,0.9,0.9,0.9,0.9,0.9,0.9,0.9,0.9,0.9,0.9,0.9,0.9,0.9,0.9,0.9,0.9,0.9,0.9,0.9,0.9,0.9,0.9,0.9,0.9,0.9,0.9,0.9,0.9,0.9,0.9,0.9,0.9,0.9,0.9,0.9,0.9,0.9,0.9,0.9,0.9,0.9,0.9,0.9,0.9,0.9,0.9,0.9,0.9,0.9,0.9,0.9,0.9,0.9,0.9,0.9,0.9,0.9,0.9,0.9,0.9,0.9,0.9,0.9,0.9,0.9,0.9,0.9,0.9,0.9,0.9,0.9,0.9,0.9,0.9,0.9,0.9,0.9,0.9,0.9,0.9,0.9,0.9,0.9,0.9,0.9,0.9,0.9,0.9,0.9,0.9,0.9,0.9,0.9,0.9,0.9,0.9,0.9,0.9,0.9,0.9,0.9,0.9,0.9,0.9,0.9,0.9,0.9,0.9,0.9,0.9,0.9,0.9,0.9,0.9,0.9,0.9,0.9,0.9,0.9,0.9,0.9,0.9,0.9,0.9,0.9,0.9,0.9,0.9,0.9,0.9,0.9,0.9,0.9,0.9,0.9,0.9,0.9,0.9,0.9,0.9,0.9,0.9,0.9,0.9,0.9,0.9,0.9,0.9,0.9,0.9,0.9,0.9,0.9,0.9,0.9,0.9,0.9,0.9,0.9,0.9,0.9,0.9,0.9,0.9,0.9,0.9,0.9,0.9,0.9,0.9,0.9,0.9,0.9,0.9,0.9,0.9,0.9,0.9,0.9,0.9,0.9,0.9,0.9,0.9,0.9,0.9,0.9,0.9,0.9,0.9,0.9,0.9,0.9,0.9,0.9,0.9,0.9,0.9,0.9,0.9,0.9,0.9,0.9,0.9,0.9,0.9,0.9,0.9,0.9,0.9,0.9,0.9,0.9,0.9,0.9,0.9,0.9,0.9,0.9,0.9,0.9,0.9,0.9,0.9,0.9,0.9,0.9,0.9,0.9,0.9,0.9,0.9,0.9,0.9,0.9,0.9,0.9,0.9,0.9,0.9,0.9,0.9,0.9,0.9,0.9,0.9,0.9,0.9,0.9,0.9,0.9,0.9,0.9,0.9,0.9,0.9,0.9,0.9,0.9,0.9,0.9,0.9,0.9,0.9,0.9,0.9,0.9,0.9,0.9,0.9,0.9,0.9,0.9,0.9,0.9,0.9,0.9,0.9,0.9,0.9,0.9,0.9,0.9,0.9,0.9,0.9,0.9,0.9,0.9,0.9,0.9,0.9,0.9,0.9,0.9,0.9,0.9,0.9,0.9,0.9,0.9,0.9,0.9,0.9,0.9,0.9,0.9,0.9,0.9,0.9,0.9,0.9,0.9,0.9,0.9,0.9,0.9,0.9,0.9,0.9,0.9,0.9,0.9,0.9,0.9,0.9,0.9,0.9,0.9,0.9,0.9,0.9,0.9,0.9,0.9,0.9,0.9,0.9,0.9,0.9,0.9,0.9,0.9,0.9,0.9,0.9,0.9,0.9,0.9,0.9,0.9,0.9,0.9,0.9,0.9,0.9,0.9,0.9,0.9,0.9,0.9,0.9,0.9,0.9,0.9,0.9,0.9,0.9,0.9,0.9,0.9,0.9,0.9,0.9,0.9,0.9,0.9,0.9,0.9,0.9,0.9,0.9,0.9,0.9,0.9,0.9,0.9,0.9,0.9,0.9,0.9,0.9,0.9,0.9,0.9,0.9,0.9,0.9,0.9,0.9,0.9,0.9,0.9,0.9,0.9,0.9,0.9,0.9,0.9,0.9,0.9,0.9,0.9,0.9,0.9,0.9,0.9,0.9,0.9,0.9,0.9,0.9,0.9,0.9,0.9,0.9,0.9,0.9,0.9,0.9,0.9,0.9,0.9,0.9,0.9,0.9,0.9,0.9,0.9,0.9,0.9,0.9,0.9,0.9,0.9,0.9,0.9,0.9,0.9,0.9,0.9,0.9,0.9,0.9,0.9,0.9,0.9,0.9,0.9,0.9,0.9,0.9,0.9,0.9,0.9,0.9,0.9,0.9,0.9,0.9,0.9,0.9,0.9,0.9,0.9,0.9,0.9,0.9,0.9,0.9,0.9,0.9,0.9,0.9,0.9,0.9,0.9,0.9,0.9,0.9,0.9,0.9,0.9,0.9,0.9,0.9,0.9,0.9,0.9,0.9,0.9,0.9,0.9,0.9,0.9,0.9,0.9,0.9,0.9,0.9,0.9,0.9,0.9,0.9,0.9,0.9,0.9,0.9,0.9,0.9,0.9,0.9,0.9,0.9,0.9,0.9,0.9,0.9,0.9,0.9,0.9,0.9,0.9,0.9,0.9,0.9,0.9,0.9,0.9,0.9,0.9,0.9,0.9,0.9,0.9,0.9,0.9,0.9,0.9,0.9,0.9,0.9,0.9,0.9,0.9,0.9,0.9,0.9,0.9,0.9,0.9,0.9,0.9,0.9,0.9,0.9,0.9,0.9,0.9,0.9,0.9,0.9,0.9,0.9,0.9,0.9,0.9,0.9,0.9,0.9,0.9,0.9,0.9,0.9,0.9,0.9,0.9,0.9,0.9,0.9,0.9,0.9,0.9,0.9,0.9,0.9,0.9,0.9,0.9,0.9,0.9,0.9,0.9,0.9,0.9,0.9,0.9,0.9,0.9,0.9,0.9,0.9,0.9,0.9,0.9,0.9,0.9,0.9,0.9,0.9,0.9,0.9,0.9,0.9,0.9,0.9,0.9,0.9,0.9,0.9,0.9,0.9,0.9,0.9,0.9,0.9,0.9,0.9,0.9,0.9,0.9,0.9,0.9,0.9,0.9,0.9,0.9,0.9,0.9,0.9,0.9,0.9,0.9,0.9,0.9,0.9,0.9,0.9,0.9,0.9,0.9,0.9,0.9,0.9,0.9,0.9,0.9,0.9,0.9,0.9,0.9,0.9,0.9,0.9,0.9,0.9,0.9,0.9,0.9,0.9,0.9,0.9,0.9,0.9,0.9,0.9,0.9,0.9,0.9,0.9,0.9,0.9,0.9,0.9,0.9,0.9,0.9,0.9,0.9,0.9,0.9,0.9,0.9,0.9,0.9,0.9,0.9,0.9,0.9,0.9,0.9,0.9,0.9,0.9,0.9,0.9,0.9,0.9,0.9,0.9,0.9,0.9,0.9,0.9,0.9,0.9,0.9],\"colors\":[\"#984ea3\",\"#984ea3\",\"#984ea3\",\"#984ea3\",\"#984ea3\",\"#984ea3\",\"#984ea3\",\"#984ea3\",\"#984ea3\",\"#984ea3\",\"#984ea3\",\"#984ea3\",\"#984ea3\",\"#984ea3\",\"#984ea3\",\"#984ea3\",\"#984ea3\",\"#984ea3\",\"#984ea3\",\"#984ea3\",\"#984ea3\",\"#984ea3\",\"#984ea3\",\"#984ea3\",\"#984ea3\",\"#984ea3\",\"#984ea3\",\"#ff7f00\",\"#984ea3\",\"#984ea3\",\"#984ea3\",\"#984ea3\",\"#984ea3\",\"#ff7f00\",\"#984ea3\",\"#984ea3\",\"#984ea3\",\"#984ea3\",\"#984ea3\",\"#984ea3\",\"#984ea3\",\"#984ea3\",\"#984ea3\",\"#984ea3\",\"#984ea3\",\"#984ea3\",\"#984ea3\",\"#984ea3\",\"#984ea3\",\"#984ea3\",\"#984ea3\",\"#984ea3\",\"#984ea3\",\"#ff7f00\",\"#984ea3\",\"#984ea3\",\"#984ea3\",\"#984ea3\",\"#984ea3\",\"#984ea3\",\"#984ea3\",\"#984ea3\",\"#984ea3\",\"#984ea3\",\"#984ea3\",\"#984ea3\",\"#984ea3\",\"#984ea3\",\"#984ea3\",\"#984ea3\",\"#984ea3\",\"#984ea3\",\"#984ea3\",\"#984ea3\",\"#984ea3\",\"#984ea3\",\"#984ea3\",\"#984ea3\",\"#984ea3\",\"#984ea3\",\"#ff7f00\",\"#984ea3\",\"#984ea3\",\"#ff7f00\",\"#984ea3\",\"#984ea3\",\"#984ea3\",\"#984ea3\",\"#984ea3\",\"#984ea3\",\"#984ea3\",\"#984ea3\",\"#984ea3\",\"#984ea3\",\"#984ea3\",\"#984ea3\",\"#984ea3\",\"#984ea3\",\"#377eb8\",\"#377eb8\",\"#984ea3\",\"#e41a1c\",\"#984ea3\",\"#984ea3\",\"#984ea3\",\"#984ea3\",\"#984ea3\",\"#984ea3\",\"#984ea3\",\"#4daf4a\",\"#984ea3\",\"#984ea3\",\"#984ea3\",\"#e41a1c\",\"#984ea3\",\"#984ea3\",\"#984ea3\",\"#984ea3\",\"#984ea3\",\"#984ea3\",\"#984ea3\",\"#e41a1c\",\"#984ea3\",\"#4daf4a\",\"#4daf4a\",\"#ff7f00\",\"#ff7f00\",\"#e41a1c\",\"#377eb8\",\"#377eb8\",\"#e41a1c\",\"#e41a1c\",\"#ff7f00\",\"#ff7f00\",\"#e41a1c\",\"#377eb8\",\"#377eb8\",\"#984ea3\",\"#377eb8\",\"#e41a1c\",\"#4daf4a\",\"#377eb8\",\"#377eb8\",\"#377eb8\",\"#377eb8\",\"#377eb8\",\"#e41a1c\",\"#377eb8\",\"#377eb8\",\"#e41a1c\",\"#ff7f00\",\"#984ea3\",\"#4daf4a\",\"#377eb8\",\"#377eb8\",\"#377eb8\",\"#4daf4a\",\"#377eb8\",\"#377eb8\",\"#ff7f00\",\"#377eb8\",\"#377eb8\",\"#e41a1c\",\"#377eb8\",\"#e41a1c\",\"#377eb8\",\"#ff7f00\",\"#ff7f00\",\"#ff7f00\",\"#377eb8\",\"#ff7f00\",\"#377eb8\",\"#377eb8\",\"#377eb8\",\"#377eb8\",\"#377eb8\",\"#984ea3\",\"#377eb8\",\"#377eb8\",\"#377eb8\",\"#4daf4a\",\"#4daf4a\",\"#377eb8\",\"#377eb8\",\"#377eb8\",\"#e41a1c\",\"#377eb8\",\"#377eb8\",\"#377eb8\",\"#377eb8\",\"#984ea3\",\"#ff7f00\",\"#4daf4a\",\"#377eb8\",\"#377eb8\",\"#ff7f00\",\"#984ea3\",\"#377eb8\",\"#984ea3\",\"#377eb8\",\"#377eb8\",\"#377eb8\",\"#ff7f00\",\"#377eb8\",\"#377eb8\",\"#ff7f00\",\"#984ea3\",\"#377eb8\",\"#4daf4a\",\"#377eb8\",\"#377eb8\",\"#377eb8\",\"#377eb8\",\"#4daf4a\",\"#377eb8\",\"#377eb8\",\"#4daf4a\",\"#ff7f00\",\"#377eb8\",\"#377eb8\",\"#984ea3\",\"#377eb8\",\"#984ea3\",\"#377eb8\",\"#e41a1c\",\"#4daf4a\",\"#ff7f00\",\"#377eb8\",\"#377eb8\",\"#377eb8\",\"#ff7f00\",\"#377eb8\",\"#377eb8\",\"#377eb8\",\"#ff7f00\",\"#377eb8\",\"#377eb8\",\"#377eb8\",\"#377eb8\",\"#ff7f00\",\"#377eb8\",\"#4daf4a\",\"#984ea3\",\"#e41a1c\",\"#984ea3\",\"#ff7f00\",\"#ff7f00\",\"#e41a1c\",\"#377eb8\",\"#e41a1c\",\"#377eb8\",\"#377eb8\",\"#377eb8\",\"#377eb8\",\"#377eb8\",\"#377eb8\",\"#ff7f00\",\"#ff7f00\",\"#ff7f00\",\"#377eb8\",\"#e41a1c\",\"#ff7f00\",\"#377eb8\",\"#377eb8\",\"#377eb8\",\"#4daf4a\",\"#4daf4a\",\"#e41a1c\",\"#377eb8\",\"#4daf4a\",\"#377eb8\",\"#377eb8\",\"#377eb8\",\"#984ea3\",\"#377eb8\",\"#e41a1c\",\"#377eb8\",\"#377eb8\",\"#377eb8\",\"#e41a1c\",\"#377eb8\",\"#377eb8\",\"#ff7f00\",\"#ff7f00\",\"#377eb8\",\"#984ea3\",\"#377eb8\",\"#ff7f00\",\"#377eb8\",\"#4daf4a\",\"#377eb8\",\"#4daf4a\",\"#377eb8\",\"#ff7f00\",\"#377eb8\",\"#ff7f00\",\"#377eb8\",\"#377eb8\",\"#377eb8\",\"#4daf4a\",\"#4daf4a\",\"#ff7f00\",\"#377eb8\",\"#ff7f00\",\"#377eb8\",\"#ff7f00\",\"#ff7f00\",\"#e41a1c\",\"#377eb8\",\"#377eb8\",\"#377eb8\",\"#377eb8\",\"#377eb8\",\"#377eb8\",\"#377eb8\",\"#e41a1c\",\"#377eb8\",\"#4daf4a\",\"#377eb8\",\"#377eb8\",\"#377eb8\",\"#377eb8\",\"#377eb8\",\"#ff7f00\",\"#ff7f00\",\"#ff7f00\",\"#984ea3\",\"#4daf4a\",\"#e41a1c\",\"#984ea3\",\"#e41a1c\",\"#984ea3\",\"#4daf4a\",\"#4daf4a\",\"#e41a1c\",\"#377eb8\",\"#4daf4a\",\"#4daf4a\",\"#e41a1c\",\"#e41a1c\",\"#e41a1c\",\"#e41a1c\",\"#4daf4a\",\"#984ea3\",\"#984ea3\",\"#984ea3\",\"#e41a1c\",\"#e41a1c\",\"#984ea3\",\"#984ea3\",\"#4daf4a\",\"#377eb8\",\"#4daf4a\",\"#984ea3\",\"#984ea3\",\"#377eb8\",\"#ff7f00\",\"#e41a1c\",\"#984ea3\",\"#984ea3\",\"#ff7f00\",\"#984ea3\",\"#e41a1c\",\"#e41a1c\",\"#377eb8\",\"#984ea3\",\"#984ea3\",\"#ff7f00\",\"#4daf4a\",\"#4daf4a\",\"#e41a1c\",\"#984ea3\",\"#984ea3\",\"#4daf4a\",\"#984ea3\",\"#984ea3\",\"#984ea3\",\"#4daf4a\",\"#984ea3\",\"#4daf4a\",\"#ff7f00\",\"#4daf4a\",\"#984ea3\",\"#984ea3\",\"#4daf4a\",\"#4daf4a\",\"#e41a1c\",\"#984ea3\",\"#4daf4a\",\"#e41a1c\",\"#984ea3\",\"#377eb8\",\"#ff7f00\",\"#4daf4a\",\"#e41a1c\",\"#e41a1c\",\"#ff7f00\",\"#e41a1c\",\"#984ea3\",\"#4daf4a\",\"#4daf4a\",\"#4daf4a\",\"#e41a1c\",\"#984ea3\",\"#984ea3\",\"#e41a1c\",\"#4daf4a\",\"#ff7f00\",\"#4daf4a\",\"#e41a1c\",\"#ff7f00\",\"#984ea3\",\"#4daf4a\",\"#984ea3\",\"#4daf4a\",\"#e41a1c\",\"#4daf4a\",\"#984ea3\",\"#e41a1c\",\"#984ea3\",\"#377eb8\",\"#4daf4a\",\"#984ea3\",\"#ff7f00\",\"#984ea3\",\"#e41a1c\",\"#984ea3\",\"#984ea3\",\"#984ea3\",\"#4daf4a\",\"#e41a1c\",\"#ff7f00\",\"#e41a1c\",\"#4daf4a\",\"#e41a1c\",\"#4daf4a\",\"#e41a1c\",\"#ff7f00\",\"#ff7f00\",\"#4daf4a\",\"#ff7f00\",\"#ff7f00\",\"#984ea3\",\"#e41a1c\",\"#984ea3\",\"#4daf4a\",\"#377eb8\",\"#984ea3\",\"#4daf4a\",\"#984ea3\",\"#e41a1c\",\"#984ea3\",\"#4daf4a\",\"#e41a1c\",\"#377eb8\",\"#984ea3\",\"#ff7f00\",\"#984ea3\",\"#4daf4a\",\"#e41a1c\",\"#e41a1c\",\"#984ea3\",\"#4daf4a\",\"#984ea3\",\"#e41a1c\",\"#e41a1c\",\"#4daf4a\",\"#377eb8\",\"#984ea3\",\"#e41a1c\",\"#4daf4a\",\"#ff7f00\",\"#984ea3\",\"#4daf4a\",\"#ff7f00\",\"#4daf4a\",\"#984ea3\",\"#4daf4a\",\"#377eb8\",\"#4daf4a\",\"#ff7f00\",\"#377eb8\",\"#4daf4a\",\"#984ea3\",\"#377eb8\",\"#377eb8\",\"#377eb8\",\"#4daf4a\",\"#984ea3\",\"#377eb8\",\"#377eb8\",\"#984ea3\",\"#984ea3\",\"#984ea3\",\"#e41a1c\",\"#e41a1c\",\"#ff7f00\",\"#4daf4a\",\"#984ea3\",\"#4daf4a\",\"#e41a1c\",\"#377eb8\",\"#984ea3\",\"#377eb8\",\"#ff7f00\",\"#4daf4a\",\"#377eb8\",\"#4daf4a\",\"#984ea3\",\"#984ea3\",\"#4daf4a\",\"#ff7f00\",\"#ff7f00\",\"#4daf4a\",\"#377eb8\",\"#984ea3\",\"#4daf4a\",\"#4daf4a\",\"#e41a1c\",\"#984ea3\",\"#984ea3\",\"#377eb8\",\"#e41a1c\",\"#e41a1c\",\"#377eb8\",\"#e41a1c\",\"#e41a1c\",\"#e41a1c\",\"#ff7f00\",\"#e41a1c\",\"#e41a1c\",\"#e41a1c\",\"#e41a1c\",\"#377eb8\",\"#377eb8\",\"#e41a1c\",\"#377eb8\",\"#e41a1c\",\"#e41a1c\",\"#377eb8\",\"#e41a1c\",\"#377eb8\",\"#ff7f00\",\"#e41a1c\",\"#e41a1c\",\"#377eb8\",\"#e41a1c\",\"#377eb8\",\"#377eb8\",\"#377eb8\",\"#377eb8\",\"#984ea3\",\"#377eb8\",\"#377eb8\",\"#e41a1c\",\"#e41a1c\",\"#377eb8\",\"#377eb8\",\"#377eb8\",\"#e41a1c\",\"#377eb8\",\"#377eb8\",\"#4daf4a\",\"#ff7f00\",\"#e41a1c\",\"#377eb8\",\"#e41a1c\",\"#e41a1c\",\"#e41a1c\",\"#377eb8\",\"#ff7f00\",\"#e41a1c\",\"#e41a1c\",\"#e41a1c\",\"#e41a1c\",\"#e41a1c\",\"#e41a1c\",\"#984ea3\",\"#e41a1c\",\"#e41a1c\",\"#ff7f00\",\"#377eb8\",\"#377eb8\",\"#377eb8\",\"#e41a1c\",\"#377eb8\",\"#e41a1c\",\"#e41a1c\",\"#e41a1c\",\"#e41a1c\",\"#377eb8\",\"#e41a1c\",\"#4daf4a\",\"#377eb8\",\"#e41a1c\",\"#377eb8\",\"#377eb8\",\"#e41a1c\",\"#4daf4a\",\"#377eb8\",\"#e41a1c\",\"#e41a1c\",\"#e41a1c\",\"#984ea3\",\"#e41a1c\",\"#377eb8\",\"#e41a1c\",\"#377eb8\",\"#984ea3\",\"#377eb8\",\"#377eb8\",\"#377eb8\",\"#e41a1c\",\"#984ea3\",\"#377eb8\",\"#e41a1c\",\"#e41a1c\",\"#e41a1c\",\"#377eb8\",\"#e41a1c\",\"#e41a1c\",\"#ff7f00\",\"#377eb8\",\"#e41a1c\",\"#e41a1c\",\"#e41a1c\",\"#377eb8\",\"#e41a1c\",\"#e41a1c\",\"#377eb8\",\"#984ea3\",\"#e41a1c\",\"#e41a1c\",\"#e41a1c\",\"#377eb8\",\"#e41a1c\",\"#377eb8\",\"#ff7f00\",\"#377eb8\",\"#377eb8\",\"#377eb8\",\"#e41a1c\",\"#e41a1c\",\"#e41a1c\",\"#e41a1c\",\"#e41a1c\",\"#e41a1c\",\"#e41a1c\",\"#e41a1c\",\"#e41a1c\",\"#e41a1c\",\"#377eb8\",\"#377eb8\",\"#984ea3\",\"#377eb8\",\"#e41a1c\",\"#377eb8\",\"#377eb8\",\"#377eb8\",\"#e41a1c\",\"#377eb8\",\"#e41a1c\",\"#377eb8\",\"#e41a1c\",\"#377eb8\",\"#984ea3\",\"#377eb8\",\"#e41a1c\",\"#e41a1c\",\"#e41a1c\",\"#984ea3\",\"#e41a1c\",\"#e41a1c\",\"#e41a1c\",\"#e41a1c\",\"#984ea3\",\"#377eb8\",\"#e41a1c\",\"#984ea3\",\"#e41a1c\",\"#984ea3\",\"#377eb8\",\"#984ea3\",\"#377eb8\",\"#377eb8\",\"#377eb8\",\"#377eb8\",\"#e41a1c\",\"#377eb8\",\"#e41a1c\",\"#e41a1c\",\"#377eb8\",\"#377eb8\",\"#e41a1c\",\"#377eb8\",\"#e41a1c\",\"#e41a1c\",\"#e41a1c\",\"#377eb8\",\"#984ea3\",\"#377eb8\",\"#e41a1c\",\"#e41a1c\",\"#ff7f00\",\"#e41a1c\",\"#984ea3\",\"#377eb8\",\"#e41a1c\",\"#e41a1c\",\"#377eb8\",\"#377eb8\",\"#e41a1c\",\"#377eb8\",\"#e41a1c\",\"#377eb8\",\"#e41a1c\",\"#e41a1c\",\"#e41a1c\",\"#377eb8\",\"#4daf4a\",\"#377eb8\",\"#984ea3\",\"#984ea3\",\"#4daf4a\",\"#ff7f00\",\"#e41a1c\",\"#4daf4a\",\"#ff7f00\",\"#984ea3\",\"#e41a1c\",\"#e41a1c\",\"#4daf4a\",\"#4daf4a\",\"#ff7f00\",\"#984ea3\",\"#ff7f00\",\"#4daf4a\",\"#ff7f00\",\"#ff7f00\",\"#e41a1c\",\"#ff7f00\",\"#ff7f00\",\"#984ea3\",\"#4daf4a\",\"#984ea3\",\"#ff7f00\",\"#ff7f00\",\"#377eb8\",\"#ff7f00\",\"#ff7f00\",\"#4daf4a\",\"#984ea3\",\"#984ea3\",\"#ff7f00\",\"#4daf4a\",\"#ff7f00\",\"#ff7f00\",\"#ff7f00\",\"#ff7f00\",\"#ff7f00\",\"#e41a1c\",\"#ff7f00\",\"#984ea3\",\"#984ea3\",\"#ff7f00\",\"#e41a1c\",\"#4daf4a\",\"#ff7f00\",\"#ff7f00\",\"#4daf4a\",\"#984ea3\",\"#ff7f00\",\"#ff7f00\",\"#e41a1c\",\"#984ea3\",\"#e41a1c\",\"#ff7f00\",\"#ff7f00\",\"#ff7f00\",\"#4daf4a\",\"#ff7f00\",\"#ff7f00\",\"#ff7f00\",\"#ff7f00\",\"#e41a1c\",\"#ff7f00\",\"#984ea3\",\"#ff7f00\",\"#ff7f00\",\"#ff7f00\",\"#ff7f00\",\"#ff7f00\",\"#4daf4a\",\"#984ea3\",\"#984ea3\",\"#377eb8\",\"#ff7f00\",\"#ff7f00\",\"#ff7f00\",\"#ff7f00\",\"#984ea3\",\"#ff7f00\",\"#984ea3\",\"#4daf4a\",\"#ff7f00\",\"#ff7f00\",\"#ff7f00\",\"#ff7f00\",\"#ff7f00\",\"#4daf4a\",\"#ff7f00\",\"#984ea3\",\"#4daf4a\",\"#ff7f00\",\"#ff7f00\",\"#ff7f00\",\"#4daf4a\",\"#984ea3\",\"#ff7f00\",\"#ff7f00\",\"#ff7f00\",\"#4daf4a\",\"#ff7f00\",\"#ff7f00\",\"#ff7f00\",\"#ff7f00\",\"#ff7f00\",\"#ff7f00\",\"#ff7f00\",\"#ff7f00\",\"#4daf4a\",\"#4daf4a\",\"#ff7f00\",\"#ff7f00\",\"#e41a1c\",\"#ff7f00\",\"#984ea3\",\"#e41a1c\",\"#e41a1c\",\"#e41a1c\",\"#e41a1c\",\"#ff7f00\",\"#4daf4a\",\"#4daf4a\",\"#984ea3\",\"#4daf4a\",\"#ff7f00\",\"#984ea3\",\"#ff7f00\",\"#4daf4a\",\"#ff7f00\",\"#984ea3\",\"#4daf4a\",\"#e41a1c\",\"#e41a1c\",\"#ff7f00\",\"#ff7f00\",\"#984ea3\",\"#ff7f00\",\"#ff7f00\",\"#ff7f00\",\"#ff7f00\",\"#4daf4a\",\"#4daf4a\",\"#984ea3\",\"#ff7f00\",\"#984ea3\",\"#4daf4a\",\"#984ea3\",\"#ff7f00\",\"#ff7f00\",\"#ff7f00\",\"#ff7f00\",\"#ff7f00\",\"#ff7f00\",\"#e41a1c\",\"#4daf4a\",\"#ff7f00\",\"#4daf4a\",\"#e41a1c\",\"#ff7f00\",\"#4daf4a\",\"#e41a1c\",\"#ff7f00\",\"#4daf4a\",\"#ff7f00\",\"#ff7f00\",\"#4daf4a\",\"#4daf4a\",\"#e41a1c\",\"#ff7f00\",\"#4daf4a\",\"#4daf4a\",\"#984ea3\",\"#ff7f00\",\"#ff7f00\",\"#ff7f00\",\"#ff7f00\",\"#984ea3\",\"#ff7f00\",\"#ff7f00\",\"#ff7f00\",\"#4daf4a\",\"#ff7f00\",\"#ff7f00\",\"#4daf4a\",\"#4daf4a\",\"#ff7f00\",\"#ff7f00\",\"#ff7f00\",\"#377eb8\",\"#ff7f00\",\"#ff7f00\",\"#e41a1c\",\"#ff7f00\",\"#ff7f00\",\"#4daf4a\",\"#e41a1c\",\"#ff7f00\",\"#e41a1c\",\"#ff7f00\"],\"size\":[7,7,7,7,7,7,7,7,7,7,7,7,7,7,7,7,7,7,7,7,7,7,7,7,7,7,7,7,7,7,7,7,7,7,7,7,7,7,7,7,7,7,7,7,7,7,7,7,7,7,7,7,7,7,7,7,7,7,7,7,7,7,7,7,7,7,7,7,7,7,7,7,7,7,7,7,7,7,7,7,7,7,7,7,7,7,7,7,7,7,7,7,7,7,7,7,7,7,7,7,7,7,7,7,7,7,7,7,7,7,7,7,7,7,7,7,7,7,7,7,7,7,7,7,7,7,7,7,7,7,7,7,7,7,7,7,7,7,7,7,7,7,7,7,7,7,7,7,7,7,7,7,7,7,7,7,7,7,7,7,7,7,7,7,7,7,7,7,7,7,7,7,7,7,7,7,7,7,7,7,7,7,7,7,7,7,7,7,7,7,7,7,7,7,7,7,7,7,7,7,7,7,7,7,7,7,7,7,7,7,7,7,7,7,7,7,7,7,7,7,7,7,7,7,7,7,7,7,7,7,7,7,7,7,7,7,7,7,7,7,7,7,7,7,7,7,7,7,7,7,7,7,7,7,7,7,7,7,7,7,7,7,7,7,7,7,7,7,7,7,7,7,7,7,7,7,7,7,7,7,7,7,7,7,7,7,7,7,7,7,7,7,7,7,7,7,7,7,7,7,7,7,7,7,7,7,7,7,7,7,7,7,7,7,7,7,7,7,7,7,7,7,7,7,7,7,7,7,7,7,7,7,7,7,7,7,7,7,7,7,7,7,7,7,7,7,7,7,7,7,7,7,7,7,7,7,7,7,7,7,7,7,7,7,7,7,7,7,7,7,7,7,7,7,7,7,7,7,7,7,7,7,7,7,7,7,7,7,7,7,7,7,7,7,7,7,7,7,7,7,7,7,7,7,7,7,7,7,7,7,7,7,7,7,7,7,7,7,7,7,7,7,7,7,7,7,7,7,7,7,7,7,7,7,7,7,7,7,7,7,7,7,7,7,7,7,7,7,7,7,7,7,7,7,7,7,7,7,7,7,7,7,7,7,7,7,7,7,7,7,7,7,7,7,7,7,7,7,7,7,7,7,7,7,7,7,7,7,7,7,7,7,7,7,7,7,7,7,7,7,7,7,7,7,7,7,7,7,7,7,7,7,7,7,7,7,7,7,7,7,7,7,7,7,7,7,7,7,7,7,7,7,7,7,7,7,7,7,7,7,7,7,7,7,7,7,7,7,7,7,7,7,7,7,7,7,7,7,7,7,7,7,7,7,7,7,7,7,7,7,7,7,7,7,7,7,7,7,7,7,7,7,7,7,7,7,7,7,7,7,7,7,7,7,7,7,7,7,7,7,7,7,7,7,7,7,7,7,7,7,7,7,7,7,7,7,7,7,7,7,7,7,7,7,7,7,7,7,7,7,7,7,7,7,7,7,7,7,7,7,7,7,7,7,7,7,7,7,7,7,7,7,7,7,7,7,7,7,7,7,7,7,7,7,7,7,7,7,7,7,7,7,7,7,7,7,7,7,7,7,7,7,7,7,7,7,7,7,7,7,7,7,7,7,7,7,7,7,7,7,7,7,7,7,7,7,7,7,7,7,7,7,7,7,7,7,7,7,7,7,7,7,7,7,7,7,7,7,7,7,7,7,7,7,7,7,7,7,7,7,7,7,7,7,7,7,7,7,7,7,7,7,7,7,7,7,7,7,7,7,7,7,7,7,7,7,7,7,7,7,7,7,7,7,7,7,7,7,7,7,7,7,7,7,7,7,7,7,7,7,7,7,7,7,7,7,7,7,7,7,7,7,7,7,7,7,7,7,7,7,7,7,7,7,7,7,7,7,7,7,7,7,7,7,7,7,7,7,7,7,7,7,7,7,7,7,7,7,7,7,7,7,7,7,7,7,7,7,7,7,7,7,7,7,7,7,7,7,7,7,7,7,7,7,7,7,7,7,7,7,7,7,7,7,7,7,7,7,7,7,7,7,7,7,7,7,7,7,7,7,7,7,7,7,7,7,7,7,7,7,7,7,7,7,7,7,7,7,7,7,7,7,7,7,7,7,7,7,7,7,7],\"title\":[\"System for estimating turbocharger compressor outlet temperature \",\"System for diagnosing an air handling mechanism of an internal combustion engine \",\"System for estimating absolute boost pressure in a turbocharged internal combustion engine \",\"Turbocharger compressor diagnostic system \",\"System for diagnosing operation of an EGR cooler \",\"EGR fault diagnostic system \",\"System for controlling an operating condition of an internal combustion engine \",\"Sensor failure accommodation system \",\"System for diagnosing EGR flow rate operation \",\"System for diagnosing delta pressure sensor operation \",\"System for estimating turbocharger rotational speed \",\"Using gps/map/traffic info to control performance of aftertreatment (at) devices \",\"Adaptive intake oxygen estimation in a diesel engine \",\"Method and apparatus to monitor ambient sensing devices \",\"Method and apparatus for soot filter catalyst temperature control with oxygen flow constraint \",\"System for diagnosing fault conditions associated with an air handling system for an internal combustion engine \",\"System for diagnosing EGR valve, actuator and sensor related failure conditions \",\"Fuel system diagnostics by analyzing engine cylinder pressure signal and crankshaft speed signal \",\"Control of egr, fresh mass air flow, and boost pressure for internal combustion engines \",\"System and methods to detect non-urea reductant filled in a urea tank \",\"Method to compensate errors in engine speed measurement \",\"EGR valve position control system \",\"Method and system for verifying the operation of an scr catalyst \",\"Fuel system diagnostics by analyzing cylinder pressure signal \",\"Model-based diagnostics of nox sensor malfunction for selective catalyst reduction system \",\"Aftertreatment device nox conversion efficiency diagnostics using on board adaptive diagnostic algorithm \",\"Engine-out nox virtual sensor using cylinder pressure sensor \",\"Method and apparatus for controlling engine operation during regeneration of an exhaust aftertreatment system \",\"System and method for detecting low quality reductant and catalyst degradation in selective catalytic reduction systems \",\"Apparatus and method for regenerating an exhaust gas aftertreatment component of an internal combustion engine \",\"System and method for cylinder power imbalance prognostics and diagnostics \",\"Injection fuel and load balancing control system \",\"Optimized desulfation trigger control for an adsorber \",\"Method and apparatus for estimating exhaust temperature of an internal combustion engine \",\"Robust multiple input multiple output control in a high variability system \",\"Model-based control of airpath pressure limits by modulating a turbo charger by-pass valve and a variable-geometry turbine \",\"System for controlling triggering of adsorber regeneration \",\"On board diagnostic monitor of nox conversion efficiency for aftertreatment device \",\"Engine out NOx virtual sensor using cylinder pressure sensor \",\"On-board fuel property detection using pattern recognition and power spectral analysis of cylinder pressure signal \",\"Fuel system diagnostics by analyzing engine crankshaft speed signal \",\"Adaptive diesel engine control for cetane variations \",\"Method to control fuel injector pulsewidth in a compression-ignition engine \",\"Method and apparatus for estimation of relative cylinder compression balance by cranking speed analysis \",\"System for diagnosing operation of a cooling system for an internal combustion engine \",\"Method of feedforward turbocharger control for boosted engines with multi-route egr \",\"Method and apparatus for monitoring a variable geometry intake air compressor device \",\"Fuel ignition quality detection \",\"Method for controlling combustion noise in a compression-ignition engine \",\"Method and apparatus for operating a compression ignition engine \",\"Method of model-based multivariable control of egr and boost for internal combustion engines \",\"Method and apparatus to determine a cylinder air charge for an internal combustion engine \",\"System for controlling adsorber regeneration \",\"OFFSET AND SLOW RESPONSE DIAGNOSTIC METHODS FOR NOx SENSORS IN VEHICLE EXHAUST TREATMENT APPLICATIONS \",\"Turbocharger flow control \",\"On-board diagnostics of temperature sensors for selective catalyst reduction system \",\"Gain/amplitude diagnostics of NOx sensors \",\"System for controlling exhaust emissions produced by an internal combustion engine \",\"Method and apparatus for monitoring a reductant injection system in an exhaust aftertreatment system \",\"Model-based transient fuel injection timing control methodology \",\"Two-stage turbocharger control systems and methods \",\"Method and apparatus for diagnosing exhaust gas aftertreatment component degradation \",\"EMI noise filter for eddy current turbo speed sensor \",\"Method and Apparatus for Controlling a Two-Stage Air Charging System with Mixed EGR \",\"Fuel ignition quality detection systems and methods \",\"Adaptive control of scr urea injection to compensate errors \",\"Urea injector diagnostics using spectral analysis for scr nox reduction system \",\"Method and apparatus to operate internal combustion engine employing an intake air compressor \",\"Two-stage turbocharger flow control \",\"Energy balance based boost control using feedback linearization \",\"Robust estimation of biodiesel blend ratio for alternative fuel combustion \",\"Adaptive regeneration of an exhaust aftertreatment device in response to a biodiesel fuel blend \",\"Fuel injection and combustion fault diagnostics using cylinder pressure sensor \",\"Method for controlling selective catalytic reduction system of exhaust treatment system for diesel engine system, involves determining pass/fail-status of reduction agent supply and catalyzer based on amount of ammonia slip and threshold \",\"On-line adaptive pid control of air charging system \",\"Method for estimating and controlling accoustic noise during combustion \",\"Method of model-based multivariable control of egr, fresh mass air flow, and boost pressure for downsize boosted engines \",\"System and method to estimate intake charge temperature for internal combustion engines \",\"Multi-pulse injection fuel and load balancing control system \",\"Method and apparatus to determine a cylinder air charge for an internal combustion engine \",\"System and method for predicting a pedal position based on driver behavior and controlling one or more engine actuators based on the predicted pedal position \",\"System and method for adaptively learning values and controlling a turbocharger of an engine based on the values \",\"System and method for estimating a turbine outlet temperature or a turbine inlet temperature based on a wastegate command \",\"Method and apparatus for controlling an internal combustion engine \",\"Turbine expansion ratio estimation for model-based boost control \",\"Motor control system comprising a module for determining the fuel quality \",\"Measurement and diagnosis of fuel injection \",\"Model predictive control for multi-can selective catalytic reduction system \",\"Reduced order selective catalytic reduction \",\"Linear parameter varying model predictive control for engine assemblies \",\"Combination respiratory therapy and mattress functionality system integrated into a patient bed \",\"Nebulizer assembly and method of manufacturing \",\"Multivariable engine torque and emission closed-loop control for internal combustion engine \",\"Air charging control of engine assembly with multiple turbines \",\"Control of an internal combustion engine employing a waste-gated turbocharger \",\"Vehicle exhaust aftertreatment systems and methods \",\"Estimating nitrogen oxide values for vehicles \",\"Model-based monitoring for selective catalytic reduction device in aftertreatment assembly \",\"Air path control for engine assembly with waste-gated turbine \",\"Reduced order selective catalytic reduction \",\"Hidden-type bicycle mudguard \",\"Specific valve for indoor drainage head \",\"Improved design of bike seat pad \",\"Wearing article having cloud technology \",\"Frame body structure \",\"Cane with cloud technology \",\"Communication equipment capable of preventing fraud and filtering call spam \",\"Device for preventing vehicle wheels from being excreted by animals \",\"Catalyst used in ethylene polymerization, its preparation and application thereof \",\"Automatic hand brake system with safety \",\"Umbrella capable of showing incoming call and allowing handsfree communication \",\"Drawer-type clothes storage structure \",\"Intelligent elastic ball having function of detecting body fat and times of exercise \",\"Structure of health-caring gloves \",\"Laser light source acquisition and control application system \",\"Pillow structure having supporting function \",\"Power-free creative lawn-mowing shoe \",\"Air circulation device for the seat cushion of bicycle \",\"Power generation device used on road surface \",\"Walking stick with first aid \",\"Conveyance device of wardrobe \",\"Methods for enhancing motor performance and/or endurance\",\"Syringe for powder medicament premixing\",\"Implementation of collaborative telecommunications services\",\"Method and system for delivering prescription medicine\",\"Method of determining a chemotherapeutic regimen based on glutathione-S-transferase pi expression\",\"Photosensitizer and method for production thereof\",\"Method for producing optically active lactone compounds by using salen cobalt complexes having a cis-beta structure\",\"New pharmaceutical composition from natural materials for regulating immunity, its preparation method and use\",\"Online decision engine for applied research and statistics\",\"Use of piperphentonamine or salts thereof in manufacture of medicaments for treating brain diseases\",\"Substituted naphthalene compounds as calcium sensing receptor modulators\",\"Systems and methods for auto-generation of telemedicine clinics\",\"Systems and methods for auto-generation of telemedicine clinics\",\"Methods for enhancing motor performance and/or endurance\",\"Biphenyl derivatives\",\"Multicomponent degradable cationic polymers\",\"Techniques facilitating mobile telemedicine for stroke patients\",\"Process for producing nitrile\",\"Means and method for the diagnostics, prognosis and the therapy control of tumour diseases\",\"System for checking that a medicine has been taken\",\"Composition for preventing, alleviating or treating muscle diseases or improving muscular function\",\"The solid oral pharmaceutical composition comprising a bisphosphonic acid derivative\",\"The process for preparation of total coumarins from cortex fraxini and their use in medicine\",\"Improvements in or relating to the use of epidermal growth factor\",\"Unsymmetrical cyclic diamine compound\",\"New antifibrinolytic compounds\",\"Modified anticomplementary oligonucleotides with anticancer properties and method for producing same\",\"Method for low-temperature synthesis of polyaryletherketone resin on nano/micron-scale inorganic seedbed\",\"Application of genetic engineering bacterium of attenuated salmonella typhimurium in preparation of medicine for treating liver cancer\",\"Ic chip-equipped medical vessel\",\"Warning system for timely administration of drugs that have to be administered at certain times\",\"Antistress agent\",\"Thieno-pyridine derivatives as MEK inhibitors\",\"Piperidine/piperazine derivatives\",\"Piperazinyl-, piperidinyl- and morpholinyl-derivatives as novel inhibitors of histone deacetylase\",\"Retentate chromatography and protein chip arrays with applications in biology and medicine\",\"Photoreactive Derivative of Hyaluronic Acid, Method of Preparation Thereof, 3D.Crosslinked Derivative of Hyaluronic Acid, Method of Preparation and Use Thereof\",\"Cell-based assay for assessing tnf alpha inhibitors\",\"Safety lock for zipper bags\",\"Ti-3 protein derived from triatoma infestans exhibiting activity to inhibit platelet aggregation\",\"Compositions and methods for orthopox virus vaccination\",\"Cylindrical vial with bottom for medicine\",\"Composition containing herbal medicine component for promoting absorption and production method thereof\",\"Merchandise sample storing method and container therefor\",\"Prediction of Local Recurrence of Breast Cancer\",\"Sink towel\",\"apparatus for iontophoresis\",\"Need-based online virtual reality ecommerce system\",\"Compositions and populations of cells obtained from the umbilical cord and methods of producing the same\",\"Medicine packaging device and cart for changing packaging unit\",\"Method for producing human epidermal growth factor in large volume from yeast\",\"Peptide for suppressing osteoclast differentiation and use thereof\",\"Highly flexible endoscope made of silicone, and method for producing same\",\"A substituted thieno-pyridinone kinase inhibitor\",\"Heteroaryloxyethylamines as 5-ht1a ligands\",\"System and method for reliably dispensing pre-packaged pharmaceuticals\",\"Ascorbic acid derivatives, methods of synthesis and pharmaceutical use thereof\",\"Polyacetal-carboxylic acids in the treatment of cancer and auto-immune disorders\",\"Modulation of hiv replication using sam68\",\"System and method for validating and training surgical interventions in human and veterinary medicine\",\"System and method for validating and training surgical interventions in human and veterinary medicine\",\"CLONING AND EXPRESSION OF BOVINE ESTROGEN RECEPTOR-$g(b)\",\"Method for the selective particle-bound enrichment of biomolecules or bioparticles\",\"Caspase-1 activation inhibitor\",\"Radioactive probe for detecting hydrogen sulfide\",\"Cyclopeptide lhrh antagonist derivatives and pharmacal use thereof\",\"Metal nanoparticles stabilised with carbosilane dendrons and the uses thereof\",\"Method for preserving infectious recombinant viruses, aqueous viral suspension and use as medicine\",\"Thiazoles as inhibitors of the alk- 5 receptor\",\"Method and system for the detection of anomalous sequences in a digital signal\",\"Cooler receptacle\",\"Method of noninvasive electrophysiological study of the heart\",\"Medicine containing pyrimidine derivative\",\"Use of amino acids for making medicines for treating to insulin-resistance\",\"Medical device including a catheter providing wound evacuation and medicine dispensing features and related methods\",\"Method for ensuring constant speed of a motor in an injection device\",\"Interleukin-4 production inhibitors\",\"Tetrapetide revealing geroprotective effect, pharmacological substance on its basis, and the method of its application\",\"Water-swellable polymer gel and process for preparing the same\",\"Benzamide derivative with anticancer activity and preparation method and use thereof\",\"Preparation method of new recombinant antibacterial polypeptide medicine\",\"Medicine inspection device, and medicine packaging device\",\"Calcium phosphate materials containing active ingredients\",\"N-aryl piperidine substituted biphenylcarboxamides as inhibitors of apolipoprote in b\",\"Medicine cup combined with gauge for checking risk of objects causing a baby to choke\",\"A device f r administerin medicine\",\"Homopiperazine acethydrazide derivatives, preparation method and uses thereof\",\"Personal medication and health aid\",\"Substituted 1-piperidin-3-yl-4-piperidin-4-yl-piperazine derivatives and their use as neurokinin antagonists\",\"Multi-layered cell constructs and methods of use and production using enzymatically degradable natural polymers\",\"Epitopes or mimotopes derived from the c-epsilon-2 domain of ige, antagonists thereof, and their therapeutic uses\",\"Novel benzodiazepine derivative\",\"Loaded target-specific vesicles, method of producing the vesicles and their use in medical imaging\",\"Composite material, package and carrier made on the basis of the composite material and method of producing the composite material\",\"Apparatus and method to apply substances to tissue\",\"Process for producing medicine\",\"Container for serum production and method of regenerative medicine using the same\",\"Use of barx1\",\"Use of barx1\",\"Deployable temperature controlled shed with remote management\",\"Perorally administrable antimicrobial composition\",\"Ambulatory monitor\",\"1,2-benzothiazepines for the treatment of hyperlipidemic diseases\",\"Use of pyridazino(4,5-)indole-1-acetamide derivatives for preparing medicines for treating pathologies related to the dysfunction of peripheral benzodiazepin receptors\",\"Apparatus and methods for adipose tissues detection\",\"Treatment or prevention of pain and/ or stress in the neonates\",\"Concentrate of immunoglobulins and f(ab)&#39;2 and/or fab fragments specific of an arbovirus as medicine\",\"External medicine for diffuse plexiform neurofibroma\",\"Cytokine secretion promoter\",\"Managing device for taking drug\",\"Composition for skin anti-aging and wrinkle reduction, containing medicinal herb mixture extract as active ingredient\",\"Process for the deposition of biomaterials on water repellent substrates and resulting biomaterials\",\"Substituted quinoline compound and pharmaceutical composition thereof\",\"Fibrin-binding peptides and conjugates thereof\",\"Use of GSK3 inhibitors in combination with radiation therapies\",\"Aminosulfonyl substituted 4-(aminomethyl)-piperidine benzamides as 5HT4-antagonists\",\"Agent exhibiting the properties of a cognitive function promoter (embodiments)\",\"IgE CH3 peptide vaccine\",\"Toilet seat with twin protrusions having an egg shape\",\"Alcohol-fermented food or pharmaceutical composition for prevention of obesity and process for preparation thereof\",\"Tetracarbon\",\"Dental or surgical illuminated mirror\",\"Medication reminder system and apparatus\",\"Dispensing pacifier\",\"Radioiodinated benzamines and method of their use as radioimaging\",\"Method of manufacturing compositions with high ganglioside content\",\"Pyrrolyl tetrahydroquinoxalin diones, their production and use in the treatment of diseases\",\"Benzothiepines having activity as inhibitors of ileal bile acid transport and taurocholate uptake\",\"Medicinal atomizing inhaler pouch/retainer\",\"Process for producing trans-4-hydroxy-L-proline\",\"Vitamin D analogues\",\"Amide derivatives and their therapeutic use\",\"Composition comprising the alcohol compound isolated from the extract of cucurbitaceae family plant having anti-adipogenic and anti-obesity activity\",\"Aminophenyl derivatives as novel inhibitors of histone deacetylase\",\"Compositions and methods for treatment and prevention of osteoarthritis\",\"Automatic medicine packaging machine with door lock unit\",\"Apparatus for inspecting defective medicines\",\"Method and apparatus for determining a deterioration of respiratory function\",\"High resolution thin film tactle device to detect distribution of stimuli on by touch\",\"Pharmaceutical Composition for Photodynamic Therapy and a Method for Treating Oncological Diseases by Using Said Composition\",\"Self-Directing And Self-Assembling Nanomedicine Into Quantized Conductance Junctions And Its Process\",\"Method for Distinguishing Mesenchymal Stem Cell Using Molecular Marker and Use Thereof\",\"A process for preparing lotus leaf extracts and method of use\",\"Use of immunogens to treat or prevent, in malignant tumors, the immune or vascular disorders induced by extracellular factors\",\"Body augmenter capable of being inserted with medicine\",\"Process for analyzing annexin-V in urine, and application thereof\",\"Compounds which potentiate glutamate receptor and uses thereof in medicine\",\"Thienothiazine compound having anti-inflammatory and analgesic properties and method of making and using the same\",\"Methods and apparatus for indicating temperature-related events\",\"Substituted diamino-1,3,5-triazine derivatives\",\"Substituted propenyl piperazine derivatives as novel inhibitors of histone deacetylase\",\"Method for producing optically active hydroxycarboxylic acid derivatives or salts thereof\",\"Sealing device and medicine packaging apparatus\",\"Triazine derivatives as kinase inhibitors\",\"Imidazopyridine derivatives as kinase inhibitors\",\"Utilization of Dialkylfumarates\",\"Novel antiviral and antitumoral compounds\",\"Substituted triazoline, tetrazolone and imidazolone derivatives for use as a medicine\",\"Optically active organic acidate-bridged dinuclear platinum(ii) complex\",\"Piperidine-amino-benzimidazole derivatives as inhibitors of respiratory syncytial virus replication\",\"Bicomponent Bioadhesive for Biomedical Use\",\"Medicine packaging machine\",\"Extractable filler for inserting medicine into vertebral body\",\"Antibiotic TKR459, production method, and microorganism\",\"Syringe, specifically for use in medicine\",\"Substance IT-62-B and medicinal composition containing the same\",\"Medicine feed apparatus\",\"IL-13 and IL-4 binding polypeptides\",\"Oral medicine for treating turtle parotiditis\",\"Medication composition of acetyl cysteine or its pharmaceutical salt and asarin\",\"Method for preparing shikimic acid using biosynthesis technology and engineered bacteria\",\"Method for synthesizing asarin\",\"Medicine for killing mikania micrantha and the preparing method thereof and the application\",\"Application of east purple common perilla extractive\",\"Chinese medicine health care wine containing function of regulating human body immunity\",\"Tincture medicine for burn\",\"Use of aloperine in preparing medicament for treating chronic hepatitis B\",\"Medicine compounds of pericarp trichosanthis, longstamen onion bulb extract and preparing method thereof\",\"Assembled medicine for treating bedsore\",\"Chinese traditional medicine preparation for treating prostate disease\",\"Method for extracting native natural collagen from animal skin or/and tendon\",\"Natural seeds of five kind plants feed additive capable of resisting-disease increasing-egg and improving quality of meat and egg\",\"Chinese medicine for treating tuberculosis\",\"Chinese medicine for treating rheumatic heart of children\",\"Health wine\",\"Traditional Chinese medicine for treating frequent premature beat\",\"Medicine composition for prenatal and postnatal care and preventing the birth defect and improving the memory\",\"Traditional Chinese medicine effective part compound recipe composition, preparation technique and anti-diabetes use thereof\",\"Uses of modified polysaccharide rich ingalactose in medicament for treating inflammatory bowel diseases\",\"Rhizoma corydalis oral preparation capable of relieving pain and preparation method thereof\",\"Medicine of effective fractions of compounded prescription of Huomai Tiaozhi capsule and preparation technology thereof\",\"Chocolate with function for assisting sleep and preparation method\",\"Compound Chinese patent medicine for treating constipation\",\"Polycyst remove\",\"Liquid medicine mixing sprayer\",\"Traditional Chinese medicine for treating children cough and asthma and preparation thereof\",\"Method for detecting N-glycome log (P9/P4) in serum and detecting system and application thereof\",\"Self-pressing liquid medicine spraying device\",\"Method for extracting effective component of total flavonoid of polygonum perfoliatum and application thereof\",\"Pharmaceutical composition for preventing and treating livestock and poultry viral disease and effervescing agent prepared by same\",\"Plants and seeds of hybrid corn variety ch923684\",\"Photoreactive Derivative of Hyaluronic Acid, Method of Preparation Thereof, 3D.Crosslinked Derivative of Hyaluronic Acid, Method of Preparation and Use Thereof\",\"Processes and plants for reducing ammonia loss and odor from organic material or waste to the atmosphere\",\"Eye tracking with detection of adequacy of lighting\",\"Large-scale helical farming apparatus\",\"System for automatic water discharge management\",\"Method and device for automatic identification of measurement item and ultrasound imaging apparatus\",\"Generating videos with multiple viewpoints\",\"Wind turbine with a brake dust collector\",\"Fluid Pumping and Bioreactor System\",\"Deployment pattern monitoring\",\"Method and apparatus for intra prediction within display screen\",\"Semiconductor device\",\"Wind Turbine for Generating Electricity With Naval Technology\",\"Method of and driver for installing foundation elements in a ground formation\",\"Transfer of consumable data to vehicles\",\"Keyframe Alignment for Encoding Video at Multiple Bitrates\",\"Integrated Fan Drive System For Cooling Tower\",\"Multiband MIMO Vehicular Antenna Assemblies with DSRC Capabilities\",\"Image processing method and apparatus\",\"User Identifier Based Device, Identity and Activity Management System\",\"Content extraction system\",\"Hybrid solar power generation system\",\"Vehicle vision system with thermal sensor\",\"Handheld lawn maintenance tool\",\"Systems and methods for configuring an electronic device for cellular-based communications\",\"Method and Apparatus for Haptic Flex Gesturing\",\"Thermoelectric generator sleeve for a catalytic converter\",\"Systems and methods for over-temperature protection and over-voltage protection for power conversion systems\",\"Pre-charge phase data compression\",\"Enhanced nucleic acid constructs for eukaryotic gene expression\",\"Predicting immune response\",\"Motor driving unit\",\"Synchronous display method of spliced display screen, and timing controller and spliced display screen using the same\",\"Chondrocyte-like cell, and method for producing same\",\"System and method for using digital displays without optical correction devices\",\"Image capturing device and digital zooming method thereof\",\"Responding to in-vehicle environmental conditions\",\"Control apparatus of internal combustion engine\",\"Systems and devices for catheter driving instinctiveness\",\"Method of adaptively reducing power consumption and an image sensor thereof\",\"Composites material with suspended particles and method of using the same\",\"Apparatus for Detecting Torque and Steering System Having the Same\",\"Carbon nanofiber materials and lubricants\",\"Tie Down Apparatus and Method for Vehicle Tailgate\",\"Verifying templates for dynamically generated web pages\",\"Fluoroscopic inspection method, device and storage medium for automatic classification and recognition of cargoes\",\"Refrigerator including multiple storage compartments\",\"Multiplexed fourier ptychography imaging systems and methods\",\"Head-mounted electronic device\",\"Insulated gate semiconductor device\",\"Ripple Suppressor\",\"Systems and methods for providing product information via an interactive display device\",\"Boat bunk\",\"Operating system dongle\",\"Semi-active architectures for batteries having two different chemistries\",\"Methods of analyzing crude oil\",\"Digital transmitter and method for calibrating digital transmitter\",\"Method of associating a customers mobile computer device with an order for goods and/or services taken by a waiter in a merchants venue\",\"Imaging device, image processing device, image processing method, and microscope\",\"Adaptive selection of scale invariant image feature keypoints\",\"Method and apparatus for reconstructing image using low rank fourier interpolation scheme\",\"Engine-generator control method and series hybrid electric combat maneuvering system using the same\",\"System And Method For Providing Objectified Image Renderings Using Recognition Information From Images\",\"Optoelectronic semiconductor chip, optoelectronic component, and method of producing semiconductor chips\",\"Eyelid shape estimation\",\"System and method for generating an alternative product recommendation\",\"System and method for electrically-coupled heat engine and thermal cycle\",\"Mobile Device with Improved Security\",\"Simultaneous Display of Two or More Different Sequentially Processed Images\",\"Generation of photoreceptors from human retinal progenitor cells using polycaprolactone substrates\",\"Apparatus and methods for retrieving a well packer\",\"Journal pin oil supply for gear system\",\"Regenerative fuel cells\",\"Nanogenerator and method of manufacturing the same\",\"Release mechanism\",\"Detection of spoof attacks on location broadcasting beacons\",\"Automatic calibration of position transmitter\",\"Information acquisition apparatus, signal processing method, and storage medium\",\"Semiconductor storage device\",\"Interlocking Swim Noodles\",\"Evacuation slide with a lighting system for illuminating an escape route\",\"Clothing\",\"Motor control apparatus and method\",\"Method and System for Providing Reward Status\",\"Display apparatus and display method\",\"Accelerator-driven subcritical reactor system\",\"Generating a clustering model and clustering based on the clustering model\",\"System and Method for Implementing High Availability of Server in Cloud Environment\",\"Image projection apparatus\",\"Inductive-charging grommet for furniture\",\"In situ chemical transformation and ionization of inorganic perchlorates on surfaces\",\"Surged Vapor Compression Heat Transfer Systems with Reduced Defrost Phase Separator\",\"Detecting quasi-identifiers in datasets\",\"Codon signature for neuromyelitis optica\",\"System and method for robust access and entry to large structured data using voice form-filling\",\"System and method for generating a process flow structure\",\"Interface module for a unit of an antenna distribution system, and antenna distribution system\",\"Electrode negative pulse welding system and method\",\"Systems and methods for sensory and cognitive profiling\",\"Electronic apparatus, correction method, and storage medium\",\"File management server, and system and method for file management\",\"Gateway for interconnection of heterogeneous middleware and time synchronization method thereof\",\"Remote closed-loop titration of decongestive therapy for the treatment of advanced heart failure\",\"High sulfur content copolymers and composite materials and electrochemical cells and optical elements using them\",\"Adapting Operating Parameters Of An Input/Output (IO) Interface Circuit Of A Processor\",\"Feedback Scheme for Non-Isolated Power Supply\",\"Custom grammars builder platform\",\"Method and apparatus for efficient, low power finite state transducer decoding\",\"Open gap film roll core\",\"Force and heat spreading pcb for lcd protection and interconnection\",\"Customer Tailored Release Master Plan Generation for Hybrid Networked Solutions\",\"System that provides procurement by a legal entity on behalf of another legal entity\",\"Method of performing scheduling for d2d multicast communication in wireless communication system and apparatus therefor\",\"System for improving airflow characteristics within a coal pulverizer\",\"Method of correcting image-overlapped area, recording medium and execution device\",\"Three dimensional image display system and adjusting method thereof\",\"Calibration method and calibration device\",\"Method and apparatus for capturing images\",\"Armor plate damage detection system\",\"Process and system for video production and tracking of objects\",\"Radio Unit with Internal Parallel Antenna Calibration\",\"Guide light plate optical touch device\",\"Driving method and driving device for liquid crystal panel, and display device\",\"Autocaptioning of images\",\"Immunogenic Affinity-Conjugated Antigen Systems Based on Papaya Mosaic Virus and Uses Thereof\",\"Extreme ultraviolet  light generation apparatus\",\"Color management for fabrication systems\",\"Electric power steering apparatus\",\"Unmanned Aerial System for Creating Aerial Message\",\"Multi-engine power plant having an emergency fluid injection system, and an aircraft\",\"Luminaire With Modular Cooling System and Associated Methods\",\"Technologies for remotely controlling a computing device via a wearable computing device\",\"Soybean variety a1036442\",\"Optical sensor and electronic apparatus\",\"New road detection logic\",\"Positive and negative voltage generating circuit, liquid crystal display module driving system, and voice over internet protocol phone\",\"Failure mapping in a storage array\",\"Environment control device and method using a wifi infrastructure for exchanging environmental data\",\"Power generating manually operated treadmill\",\"Fast user kiosk access in a non-persistent desktop environment\",\"Concurrent fat and iron estimation in magnetic resonance signal data\",\"Content creation tool\",\"Device for generating a false twist at a strand\",\"Depth oriented inter-view motion vector prediction\",\"Memory controller, semiconductor memory device, and control method for semiconductor memory device\",\"Hydrogenated branched conjugated diene copolymer, rubber composition and pneumatic tire\",\"Self-holding magnet with a particularly low electric trigger voltage\",\"Image retrieval method, real-time drawing prompting method, and devices thereof\",\"Collision detection system and method of operation\",\"Self-powered generator, method of fabricating the same and piezoelectric enery-harvesting device using the generator\",\"Element marking device\",\"Graphical system for collecting, presenting and using medical data\",\"Medical image diagnostic apparatus and medical image processing apparatus\",\"Locating technique and apparatus using an approximated dipole signal\",\"Electric machine\",\"Multi-Microphone Speech Recognition Systems and Related Techniques\",\"Methods and systems for treating or preventing cancer\",\"Semiconductor memory device and driving method thereof\",\"Portable monitoring devices and methods of operating the same\",\"Manipulating the circadian clock to increase gene expression\",\"Processing apparatus including laser beam applying mechanism and separating means\",\"Robotic surgical system with patient support\",\"Soybean variety dll0750\",\"Optoelectronic Semiconductor Component and Method for Producing it\",\"Chemokine gene-modified cells for cancer immunotherapy\",\"Method and authentication server for verifying access identity of set-top box\",\"Compact and Low-Volume Mechanical Igniter and Ignition Systems for Thermal Batteries and the Like\",\"Systems and methods for normalizing gene expression profiles of biological samples having a mixed cell population\",\"Image processing apparatus, method, and program-recorded storage medium\",\"Paper conveying apparatus, jam detection method, and computer-readable, non-transitory medium\",\"System and method for particulate filter regeneration\",\"System and Method for Positioning a Multi-Pole Magnetic Structure\",\"Mamr head with a multi-layered side gap for stable oscillation of the sto\",\"Automatic clock tree routing rule generation\",\"Dual Fluid Reactor\",\"Methods for detecting human papillomavirus-assocated cancers\",\"Voa generation system and method using a fiber specific analysis\",\"Input device, and information input method of the same\",\"String graph assembly for polyploid genomes\",\"Methods and compositions relating to next generation sequencing for genetic testing in alk related cancers\",\"Semiconductor device\",\"Expression vector for cyanobacteria\",\"System, apparatus and method for treating sleep disorder symptoms\",\"Data processing apparatus and method\",\"Methods for modulating expression of c9orf72 antisense transcript\",\"Information processing method, device, and system\",\"Voltage mode transmitter\",\"Technology System to Develop and Support Community News Services with Multi-Dimensional Marketing and Distributed Computing.\",\"Cancer therapeutic window evaluation method\",\"Image capturing apparatus\",\"Write command and write data timing circuit and methods for timing the same\",\"Connection setting method using barcode pattern, connection setting system and user equipment thereof\",\"Hollow fiber membrane and method for manufacturing thereof\",\"Flow control valve\",\"Tissue sampling for pathological study\",\"Exercise and wellness monitoring method and system\",\"Process for removing mercaptans from a gas stream\",\"Method for merchant disambiguation based on receipt data\",\"Non-humidified fuel cell\",\"Photoreactive Derivative of Hyaluronic Acid, Method of Preparation Thereof, 3D.Crosslinked Derivative of Hyaluronic Acid, Method of Preparation and Use Thereof\",\"Method of achieving improved hair feel\",\"Cosmetic composition comprising silica aerogel particles, a gemini surfactant and a solid fatty substance\",\"Synergistic compositions and methods for mitigating skin irritation and enhancing skin barrier function\",\"Applicator for Cosmetic Product, In Particular Mascara, and Method for Manufacturing Such an Applicator\",\"Compositions and methods for treating purpura\",\"Cosmetic\",\"Cap for cosmetic case\",\"Cosmetic composition comprising at least one fixing polymer and at least one amphoteric starch\",\"Hair cosmetic composition\",\"Hair styling stick containing polyethylene glycols of different molecular weights\",\"Aerosol device containing a hair composition\",\"Oligoribonucleotides for the treatment of irritative or inflammatory skin symptoms through RNA interference\",\"Polyorganosiloxane emulsions,process for producing the same and material for cosmetic preparation\",\"Cosmetic compositions containing a starch phosphate and a cationic polymer and uses thereof\",\"Treatment plant\",\"Merchandise sample storing method and container therefor\",\"Use of a chromoionophore and/or fluoroionophore for dyeing human keratin fibres, dyeing compositions and methods\",\"Self-tanning compositions having reduced maillard reaction malodor\",\"Cosmetic dental structures and methods\",\"Novel compounds of the n-acylamino-amide family, compositions comprising them and uses thereof\",\"apparatus for iontophoresis\",\"Method for the preparation of a carminic acid lake\",\"Copolymers for cosmetic applications\",\"Cosmetic and/or pharmaceutical emulsions containing behenyl derivatives\",\"BENZYLIDENE-\\u03b2-DICARBONYL COMPOUNDS AS NOVEL UV-ABSORBERS\",\"NFAT signal inhibitor and calcineurin inhibitor\",\"Method for producing human epidermal growth factor in large volume from yeast\",\"Method and apparatus for fractional skin treatment\",\"Peptide for suppressing osteoclast differentiation and use thereof\",\"Pump safety device for various containers\",\"Finely dispersed emulsifier-free systems of the oil-in-water and water-in-oil type, containing boron nitride\",\"Self-adhesive dental floss\",\"Anhydrous fluid filtering composition free of c1-c5 alkanol, comprising a lipophilic polyamide polycondensate and a volatile alkane\",\"Complex powder containing mogeoseog, the preparation method thereof, and the cosmetic composition containing the same\",\"Acylated derivatives of melatonin and its analogues, useful as medicaments\",\"Cosmetic or pharmaceutical use of a cork hydrolysis extract\",\"High unsaponifiables and methods of using the same\",\"Cosmetic composition containing ketogluconic acid derivatives\",\"Anti-inflammatory polymer\",\"Dermatological and cosmetic compositions suitable for topical application, having modulating effect on the endogenous ceramide of the skin\",\"Highlighting lipstick\",\"A novel personal wash bar\",\"Probiotic-containing particles having improved probiotic stability when in aqueous formulations\",\"Controlled release fatty acid compositions for use in body reconstruction and body-shaping\",\"Cosmetic composition for the nails\",\"Cosmetic sunscreen composite particules\",\"Foundation\",\"Antimicrobial agent and external preparation for skin containing the same\",\"Tapping applicator\",\"Functional beauty applicator using cold steam\",\"Product for temporarily deforming keratinous fibers on the basis of a combination of specific film-forming polymers\",\"Aqueous cosmetic composition comprising alkylcellulose, non-volatile oils, at least one wax and at least one gemini surfactant\",\"Infusion of dye using a plasticizer\",\"Pickering emulsion with an improved sensory effect\",\"Injectable hydrogels and uses thereof\",\"Mascara applicator system\",\"Cosmetic treatment method, and composition comprising a glyoxylic acid derivative\",\"Apparatus for dispensing a plurality of materials and method of compounding substances\",\"Self-adhesive eyelashes extension set\",\"In vivo screening array\",\"Use of synergistically active 1, 2-alkanediol mixtures as skin moisture-regulating compositions\",\"Tissue repair\",\"Device for packaging and dispensing a cosmetic and/or care product\",\"Mixture of natural or nature-identical alcohols with improved effectiveness\",\"Compositions based on peroxide in a glycolated carrier and uses thereof\",\"Flexible solid cosmetic composition comprising anionic surfactants and non-polymer conditioning agents, and cosmetic treatment method\",\"Compact powder free of binder in free form\",\"Glow and sunless tanning colour enhancement by cationic copolymers\",\"Cosmetic and/or pharmaceutical composition comprising a peptidic hydrolysate that can reinforce the barrier function\",\"Copolymer containing reactive silyl groups, composition containing the same, and method of treatment with the same\",\"Biomarkers for predicting maintenance of weight loss\",\"Cosmetic agent with condensed decomposition products of plant and animal origin\",\"Effect pigments\",\"Cosmetic transparent gel preparation and gelling agent\",\"Microalgae transformation method using aminoclay\",\"Hair dye elastin composition and preparation and use methods thereof\",\"Cosmetic container\",\"Cosmetic composition containing, as active ingredient, albumin, hyaluronic acid or collagen in cell culture medium\",\"Polymer\",\"Cosmetic or dermatological composition comprising at least one alkynyl carbamate and at least one polyol\",\"Composition for washing keratin materials comprising at least one amphoteric surfactant and at least one polyethylene glycol ester or ether comprising at least one hydrophobic group\",\"Cosmetic material vessel for automatically mixing and precisely dispensing the contents with a desired quantity\",\"Shiny foundation\",\"Pharmaceutically elegant, topical anhydrous aerosol foam\",\"Urethane surfactants and their use in personal care formulations\",\"New method for synthesizing ceramide-type compounds\",\"Bottle for fluid products, particularly pharmaceutical, medicinal and cosmetic products\",\"Polypeptides and compositions derived from the horny layer of the epidermis and its use\",\"Compositions and methods for delivery of skin cosmeceuticals\",\"Cosmetic use of phytosphingosine as slimming agent and cosmetic compositions comprising phytosphingosine\",\"Personal care composition containing microemulsified wax particles\",\"Benzoquinones of enhanced bioavailability\",\"Preparation, in particular cosmetic preparation, process for the production thereof, and use thereof\",\"Brightening agent comprising acylpyridinium compounds and defined alkalizing agents\",\"Functional particles, production process and uses\",\"Agent for temporary shaping of keratin-containing fibers having a mixture of conditioning polymers\",\"Phytin aqueous solution and use of said solution for the preparation of a liquid nutritional supplement or a cosmetic composition\",\"Antimicrobial Compositions\",\"Solute and solute mixture, as well as a composition comprising at least one solute, for use in the prevention or treatment of cosmetic or pathologic efflorescences caused by airborne particles\",\"Treatment device\",\"Mixture of natural or nature-identical alcohols with improved effectiveness\",\"Agent for the oxidative dyeing of hair, containing specific combinations of developers and couplers\",\"Seaweed-derived cosmetic compositions\",\"Non-weighing hair preparations\",\"Cosmetic plaster for bleaching the skin\",\"Styling agents giving a high degree of hold in humid conditions v\",\"Reversibly changeable hair color\",\"Cosmetic neurotoxin compositions and methods\",\"Double anodizing processes\",\"Cosmetic compositions containing silicones\",\"Cosmetic\",\"Protective and casing device for a cosmetic product dispensing head, associated head, set and method\",\"Use of lignan-type compounds or extract of nutmeg or aril of nutmeg comprising the same\",\"Cosmetic container with applicator and pivoting mechanism for the applicator\",\"Cosmetic and dermatological self-tanning formulations comprising dihydroxyacetone and glycerin\",\"A device for removing acrochordons\",\"Long wear nail polish having adhesion, toughness, and hardness\",\"Cosmetic composition containing telomerized vegetable oil\",\"A plant extract and its pharmaceutical and cosmetic use\",\"Cosmetic use of active ingredients increasing the production of growth factors\",\"Composition comprising a polymer based on particular polyols, and cosmetic treatment process\",\"Cosmetic use of an artemia salina extract to protect skin from thermal stress\",\"A cosmetic product to prevent and correct skin damage\",\"Cosmetic compositions containing an anionic alkylpolyglycoside surfactant, a galactomannan gum and their uses\",\"Cosmetic or dermatological composition comprising alkyl polypentoside vesicles, and method for preparing same\",\"Polyphenol derivative composition and uses thereof as bactericide and fungicide\",\"Cosmetic composition comprising anionic surfactants, amphoteric surfac-tants, cationic polymers and liquid fatty substances chosen from fatty alco-hols and fatty esters, and cosmetic treatment process\",\"A device for applying a cosmetic composition\",\"COSMETIC OR DERMATOLOGICAL COMPOSITIONS CONTAINING OLIGOMERS OR POLYMERS OF \\u03b1-HYDROXYCARBOXYLIC ACIDS\",\"Betaine-containing cosmetics\",\"Method for the synthesis of soluble melanin from precursor amino acids\",\"Adiponectin secretion regulator\",\"Novel lactobacillus casei gfc1 strain, fermented ginseng extract using strain, and preparation method thereof\",\"Beauty steamer for the continuous generation of steam\",\"Composition for preventing, alleviating or treating muscle diseases or improving muscular function\",\"Method for determining skin ageing in vitro\",\"Cosmetic agents containing oxytocin and aromatic substances\",\"Cosmetic composition comprising a combination of surfactants of carboxylate, acylisethionate and alkyl(poly)glycoside type\",\"Viscosity modification of organic phase containing compositions\",\"Personal care gel and method\",\"Enzymatic production or chemical synthesis and uses for 5,7-dienes and uvb conversion products thereof\",\"Device for applying fluids\",\"Cosmetic composition for greasy skin care, containing a carboxylic fatty acid or a derivative thereof\",\"Method, device and kit particularly for applying a cosmetic product\",\"Combination of a retinoid and a diol and polyunsaturated fatty acid ester\",\"Skin cleanser/hand cleaners comprising hydrophilic emollients\",\"Cosmetic product to be applied to keratin fibers in the form of foam\",\"Surfactant-free cosmetic, dermatological and pharmaceutical agents\",\"Gel foundation container comprising pump\",\"Water-in-oil type emulsion cosmetic\",\"Novel mycosporine-like amino acid\",\"Film for polyolefin-based cosmetic sheet\",\"Hair dye cream composition and preparation and use methods thereof\",\"Holographic structure and method for producing the same\",\"Topical composition comprising extracts of A. indica and M. charantia or S. indicum\",\"Renewable textured cosmetic compositions\",\"Methods and devices for treating tissue\",\"Photo-stable cosmetic or dermatological compositions\",\"Suture method\",\"Compounds with (substituted phenyl)-propenal moiety, their derivatives, biological activity, and use thereof\",\"Hand-held cosmetic powder applicator brush apparatus\",\"Models for vaccine assessment\",\"Cyanopyridone derivatives as liquid crystals\",\"Methionine-derived peptidomimetics and their use in the protection of mitochondria of cutaneous cells\",\"Meadowfoam-based bioherbicide products\",\"Hair cosmetic composition containing a poly(N-acylalkyleneimine)-organopolysiloxane block or graft copolymer\",\"Use, in a composition, as cyclooxygenase activator and/or stabilizer, of at least one pyrimidine derivative sustituted at the 6th position and a cyclooxygenase substrate\",\"Purse organizer\",\"Photoprotective/cosmetic compositions comprising synergistic admixture of sunscreen compounds\",\"Deodorant cosmetic stick product\",\"Combinations of peroxide lipids and organosilicon compounds, cosmetic and dermatological compositions containing same, and uses thereof, in particular for treating alopecia\",\"Method of making a container and closure\",\"Hair treatment composition containing yacon root juice\",\"Hair-conditioning products containing cationic compounds and selected silicones and/or cosmetic oils\",\"Use of cross-linked cationic polymers in cosmetics\",\"Composition containing a polar modified polymer\",\"Nanoparticles for encapsulation of compounds, the production and uses thereof\",\"Cosmetics container\",\"Compositions and uses thereof\",\"Textile-sparing, non-aerosol antiperspirants with hydroxycarboxylic acids\",\"Skin care composition having desirable bulk color\",\"Anti-glycation hydrolysate of g. lucidum\",\"Device for removing makeup from the nails with aid of a makeup removal product, and use of such a device\",\"Novel polymer gel networks and methods of use\",\"Composite material, package and carrier made on the basis of the composite material and method of producing the composite material\",\"Cosmetic delivery system\",\"Cosmetic heat treatment method using a silicone resin\",\"Oligoester ammonium salts and their use in cosmetic compositions\",\"Skin care composition\",\"Process for treating keratin fibres with a cationic disulfide compound\",\"Four-fingered cosmetic glove\",\"Sheet-type beauty pack\",\"Retinol-containing cosmetic product and the use thereof\",\"Cosmetic or dermatological composition comprising a merocyanine, an organic uvb-screening agent and an additional organic uva-screening agent\",\"Hydrophobically-modified chitosan for use in cosmetics and personal care applications\",\"Composition comprising a silicone copolymer, a silicone surfactant and a non-volatile pdms, cosmetic treatment method and use.\",\"Cosmetic use of microorganisms\",\"Apparatus and methods for adipose tissues detection\",\"Polysaccharide-containing compositions and use thereof\",\"Fractal payment system\",\"Microfinance funds aggregation for a retail investor\",\"Systems and methods for facilitating aggregation of social credits\",\"Learning new words\",\"Information pushing method during credit card bonus point monitoring, and intelligent prompting system\",\"Method and system for processing tax pertaining to a goods and services transaction\",\"Method for administering a credit card with a finance charge waiver period\",\"E-commerce transaction aggregation and processing\",\"System and method for managing and utilizing information\",\"Network interactive platform and method for using the same\",\"Transaction Support Device, Transaction Support System, Transaction Support Method, and Program\",\"Loan structure with tax benefits\",\"Efficient debt-clearing system and method\",\"Method of mass manufacturing, maintaining, repairing, selling, financing, and delivering low-cost and long-life passenger motor vehicles\",\"Financial platform\",\"Market-indexed mortgage system and method\",\"Universal transaction code (UTD) used to standardize the method of capturing, storing, and retrieving transaction data\",\"Systems, Methods, and Computer Program Products for Supply Chain Finance\",\"2 Sow or Not 2 Sow\",\"System and method for execution of trades made pursuant to stock option and purchase plans\",\"System for assessment of allocated assets\",\"Learning management, communication, and reward system and method\",\"Multi-Variable Transaction System and Method\",\"Online purchasing system supporting lenders with affordability screening\",\"Supply chain finance planning\",\"Global vendor financing system and method\",\"World retaliation protection project or service or system (WRPP or RWPP or RPS or retaliation protection)\",\"Detecting and reducing bias (including discrimination) in an automated decision making process\",\"Integrated cloud based marketplace services\",\"System and a method for determining whether to refinance a consumer debt instrument\",\"Online purchasing system supporting sellers with affordability screening\",\"E-commerce transaction aggregation and processing\",\"System and method for applying diverse accounting events to account balances and generating financial reports\",\"Multi-variable transaction system and method\",\"Computer implemented finance management routing system\",\"Project economics analysis tool\",\"Method and apparatus for automatically processing invoiced payments with selectable payment terms\",\"Computerized Method And System For Financing By EB-5 Investor Visa Regional Center\",\"Partial activation of license across multiple machines\",\"Method for the transmission of additional information in a communication system, exchange device, communication system and user station\",\"Business intelligence portal\",\"Time management workbook for a personal success system\",\"Microfinance funds aggregation for a retail investor\",\"Directed lifestyle residential housing structures\",\"Mobile terminal with user identification card including personal finance-related information and method of using a value-added mobile service through said mobile terminal\",\"Supply chain finance system\",\"Methods and systems for carrying out contingency-dependent payments via secure electronic bank drafts supported by online letters of credit and/or online performance bonds\",\"Replenishment of pre-paid wireless telephone accounts using short message service (SMS)\",\"Web-based automated code delivery\",\"Modeling a multifunctional firm operating in a competitive market with multiple brands\",\"Framework and methodology for supply chain lifecycle analytics\",\"Method and system for budget management\",\"Clinical trial management system\",\"Online purchasing system supporting buyer affordability screening\",\"Practice management consulting system\",\"Education planning\",\"Method and system for predicting solar energy production\",\"Systems and methods for investment decision support\",\"Market-indexed mortgage system and method\",\"Systems and methods for microfinance credit data processing and reporting\",\"Financial charge rebate\",\"Method for executing a single tranche synthetic abs derivative transaction\",\"System and method for a card benefit program providing benefits to program members based on program performance\",\"Method and system for an automated corporate governance rating system\",\"E-wallet service method based on a waiting screen application\",\"Energy management system which includes on-site energy supply\",\"Trade finance automation system\",\"Method and system for reconciling equity hedge funds\",\"Method and system for using biometric sample to electronically access accounts and authorize transactions\",\"Non-scalar-valued financial instruments\",\"Neurological sentiment tracking system\",\"Bill payment optimization using a genetic algorithm\",\"Method and apparatus for conducting an information brokering service\",\"Household filing system\",\"A method for the sales of immovable properties and an electronic system to implement the same\",\"Generating customer-specific vehicle proposals for potential vehicle customers\",\"Method of disposing of artwork for financially benefiting charitable organizations\",\"Method of disposing of artwork for financially benefiting charitable organizations\",\"Method and system for providing electronic financial assistance\",\"Methods and systems for determining a bond program to finance a school district\",\"System for managing the total risk exposure for a portfolio of loans\",\"Method and apparatus for conducting an information brokering service\",\"Computer implemented method for transforming bank-owned real property assets and/or bank held mortgage note receivables into a hybrid mortgage/asset - backed security\",\"Real life implementation of modern portfolio theory (MPT) for financial planning and portfolio management\",\"Network-enabled method and system for asset finance\",\"Method of selling commodities and sharing sales profits using internet\",\"Systems and methods for financial planning using animation\",\"Game for Teaching Financial Skills to Players\",\"Invoice financing\",\"Method and system for business planning and improved business performance\",\"Methods and systems of automatic ontology population\",\"Electronic certificate receiving method, device and system\",\"Method of playing a game of economics and finance\",\"Electrical Engineering And Capacity Management System And Method\",\"System and methods for electronic signature capture in e-contracting transactions\",\"Board game apparatus\",\"System and method for managing controls within a heterogeneous enterprise environment\",\"Method of generating precedence-preserving crossover and mutation operations in genetic algorithms\",\"System and Method for Underwriting and Transferring Existing Credit Card Balances to a Credit Instrument Issuing Facility\",\"Personal finance integration system and method\",\"Methods and systems for automatic bill pay setup for online bill pay systems\",\"System for physicals commodity trading\",\"Generating customer-specific vehicle proposals for vehicle service customers\",\"Method of generating precedence-preserving crossover and mutation operations in genetic algorithms\",\"Funding capital projects\",\"Online Purchasing System Supporting Lenders With Affordability Screening\",\"Computer implemented frameworks and methods configured to create and manage a virtual currency\",\"Method and instrument for financing backed by collateralized debt obligation-type structures\",\"Real estate investment method for purchasing a plurality of distressed properties from a single institution at formula-derived prices\",\"Electronic payment delivery service\",\"Legal research system\",\"System and method for premium optimization and loan monitoring\",\"Method of consolidating independent owners of distribution warehouses into a real estate investment trust (reit)\",\"Method and apparatus for finance-based scheduling of construction projects\",\"Business management system, method and tool\",\"Computing system supporting online purchases\",\"Mobile terminal with user identification card including personal finance-related information and method of using a value-added mobile service through said mobile terminal\",\"Clinical trial management system\",\"Mobile terminal with user identification card including personal finance- related information and method of using a value-added mobile service through said mobile terminal\",\"Interactive point access financial and information system\",\"Financing of tenant improvements\",\"Supplier stratification\",\"Systems and methods for facilitating aggregation of social credits\",\"Intelligent system and method of payment, finance, and social commerce\",\"System and method for retaining mortgage customers\",\"Methods and systems for financing a vehicle purchase\",\"Method and apparatus for conducting an information brokering service\",\"Computer assisted loan insurance determination\",\"System and methods thereof for financing a purchase order over the web\",\"Game for teaching financial skills to players\",\"Online purchasing system supporting lenders with affordability screening\",\"Supply Chain Financing Systems and Methods\",\"Method and system for an automated corporate governance rating system\",\"System, method, and computer program product for managing and analyzing intellectual property (IP) related transactions\",\"Image printing systems and methods\",\"A system and architecture that supports a multi-function semiconductor device between networks and portable wireless communications products\",\"Intelligent system and method of payment, finance, and social commerce\",\"Distributed, object oriented global trade finance system with imbedded imaging and work flow and reference data\",\"Systems and methods for securitizing longevity risk\",\"System and method for pin blocking on terminal for mobile finance\",\"Lender selection system and method\",\"Bank system, method and program for corporate finance overseas credit management\",\"Repayment processing method and system\",\"Online purchasing system supporting sellers with affordability screening\",\"Premium financed life insurance products and methods\",\"Methods and Systems of Automatic Ontology Population\",\"Systems and methods for enabling and managing social television\",\"Method of playing a dice game\",\"Systems, methods, and computer program products for supply chain finance\",\"Systems and methods for time variable financial authentication\",\"Computer network risk calculating method, insurance providing method, value evaluating method\",\"Computer system and process for a credit-driven analysis of asset-backed securities\",\"System and method for enhanced piracy protection in a wireless personal communication device\",\"Financial management system, and methods and apparatus for use therein\",\"Multiple-page shell user interface\",\"Investment Model for Formation of Capital and Value Creation\",\"Method and system for enabling commerce using bridge between real world and proprietary environments\",\"System and method for finance forecasting\",\"Integrating remotely-hosted and locally rendered content on a gaming device\",\"Method and system for structured finance using deferrable preferred securities\",\"System and method of supply chain procurement, settlement and finance\",\"Interactive point access financial and information system\",\"A dynamic financial management system, method and device\",\"Novelty calculator system for amusement\",\"Financing and securitization structure for a portfolio of loans\",\"Apparatus and method for a financial planning faith-based rules database\",\"System and Method for Assessing Risk and Marketing Potential Using Industry-Specific Operations Management Transaction Data\",\"Electronic payment delivery service\",\"System, method, and computer program product for patent-centric and group-oriented data processing\",\"Systems and Methods Associated with Distributing Financing and Risk Among Members of a Value Chain\",\"Interactive calculation and presentation of financial data results through a single interface on a data-packet-network\",\"Repayment processing method and system\",\"Financial regime-switching vector auto-regression\",\"A living budget program where the term living budget refers to a new interface and methodology for managing finances\",\"System for managing the total risk exposure for a portfolio of loans\",\"Emoji frequency detection and deep link frequency\",\"Trade financing method, instruments and systems\",\"System and method for generating a finance attribute from tradeline data\",\"Personal finance integration system and method\",\"Automated credit application system\",\"F&amp; i menu system\",\"Method and data system for determining financial instruments for, and term to maturity of, a loan\",\"Network based control of electronic devices for gaming\",\"Ultralight, economical and easy-to-handle electric vehicle\",\"System and method for reducing mortgage interest rate and mortgage guaranty insurance premiums associated with a mortgage loan\",\"Method for managing buyer transactions and settlements using communication network between computers, and method for relaying information following buyer consumption trends to the buyer\",\"System and method for pin blocking on terminal for mobile finance\",\"Method and system for structured finance using deferrable preferred securities\",\"Procured funds management system and procured funds management method\",\"Tubular Novelty Container\",\"Online purchasing system supporting lenders with affordability screening\",\"Board game of international finance\",\"Global financial services integration system and process\",\"Interim loan guarantee method\",\"Trade financing method, instruments and systems\",\"Wallet based loans\",\"Combining segments of users into vertically indexed super-segments\",\"Apparatus and method for a financial planning faith-based rules database\",\"Financial data comparison tool\",\"Online marketplace with seller financing\"],\"x\":{\"__ndarray__\":\"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\",\"dtype\":\"float32\",\"shape\":[921]},\"y\":{\"__ndarray__\":\"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\",\"dtype\":\"float32\",\"shape\":[921]},\"year\":[2002,2004,2004,2001,2005,2000,2003,2004,2004,2005,2003,2010,2011,2008,2009,2002,2005,2010,2012,2010,2002,2002,2011,2009,2010,2010,2013,2008,2012,2008,2001,2012,2008,2008,2010,2012,2010,2010,2012,2011,2009,2011,2010,2000,2005,2016,2009,2009,2010,2012,2012,2012,2009,2012,2014,2010,2014,2006,2012,2012,2014,2012,2006,2018,2010,2012,2012,2014,2015,2016,2012,2013,2010,2012,2016,2013,2016,2014,2011,2013,2017,2018,2015,2019,2017,2011,2016,2019,2019,2018,2019,2018,2018,2018,2018,2018,2018,2019,2019,2018,2012,2010,2012,2012,2008,2012,2013,2011,2005,2012,2012,2008,2012,2013,2011,2008,2011,2008,2009,2011,2008,20030514,20040810,20041207,20070705,20010614,20050630,20020903,20070627,20150803,20091020,20140826,20180209,20180209,20030515,20011205,20100517,20140819,19920721,20110712,20080602,20160526,20010510,20030317,19871124,20020627,20130717,20101122,20141120,20160817,20041125,20070419,20050307,20080730,20080605,20090812,20110817,20131126,20131004,20141027,20030328,20070413,20010614,20050614,20030509,20061025,20120720,20070907,20100720,20070227,20090625,20111104,20131025,20111101,20081203,19970926,20160603,20020823,20080728,20000106,20180209,20180209,19990825,20061103,20160420,20160406,20130703,20160913,19970715,20040614,20130304,20051123,20091123,20020711,20000823,20050610,20110701,20021025,20000120,20010123,20111103,20120301,20120427,20020312,20041206,20071023,20090906,20100310,20020807,20031217,20140514,20000222,19930622,20080613,20090414,20060508,20050315,20040521,20170821,20170821,20161101,20050825,20000203,20000210,20010720,20080229,20160119,20070402,20160309,20061130,20060222,20160928,20111207,20170511,20120830,20050919,20091208,20110428,20091209,20011026,20041018,20010814,20020501,19941114,19941205,19920528,20000209,19960826,20010409,20000717,20010413,19991028,19950509,20080520,20070116,20080804,20070529,20120517,20090115,20070604,20061128,20060123,20060330,20050213,20070413,20070307,19981008,20070209,20031224,20040330,20030326,20070123,20070808,20090721,20100302,20030321,20130313,20150417,20051220,20080327,20080213,20051025,20120306,20110802,20001207,19890130,19950712,20020418,19971112,20060327,20060407,20070607,20070714,20070704,20040410,20071221,20071213,20071224,20080110,20070123,20080107,20080222,20080218,20080602,20080901,20070811,20080911,20081010,20070920,20081222,20081219,20070112,20081224,20080128,20090407,20080412,20080425,20090609,20080523,20090616,20080606,20120425,20131126,20121210,20140602,20160602,20151209,20160920,20161003,20160816,20161007,20140825,20160727,20160714,20140307,20140618,20150723,20160328,20160725,20150727,20151211,20140317,20151230,20160620,20160322,20160129,20160909,20160726,20141129,20160608,20150611,20160802,20160720,20160606,20140626,20130625,20150319,20141215,20131025,20141209,20150324,20140926,20150812,20160727,20160829,20150722,20150831,20141223,20140128,20151204,20160302,20151009,20160902,20160608,20130808,20151123,20140123,20140123,20140520,20160914,20161208,20151201,20151106,20140813,20150916,20140723,20160816,20130130,20150227,20141209,20160119,20120123,20140104,20140311,20130109,20160204,20160802,20161005,20161007,20161221,20120906,20141229,20141210,20140722,20130311,20140617,20140818,20140313,20150729,20140415,20130315,20140625,20140724,20150805,20150522,20121018,20141204,20140808,20160209,20140917,20130927,20140429,20150528,20151113,20150126,20120813,20140926,20141231,20140529,20140926,20160226,20120929,20131219,20150217,20150306,20130801,20140808,20131028,20130905,20140826,20161214,20141027,20131108,20150722,20131205,20160307,20130315,20161109,20151022,20161129,20140502,20140609,20130315,20140328,20130610,20131008,20140207,20140428,20170127,20140512,20151113,20150624,20131024,20160211,20150310,20140626,20150908,20130122,20140620,20131108,20161014,20140425,20151216,20120802,20150122,20140221,20160212,20150606,20160211,20151027,20170208,20151105,20140728,20130304,20130315,20110905,20130513,20120912,20130917,20130501,20131007,20130808,20121108,20131121,20121220,20131029,20120921,20140923,20141202,20141111,20141218,20130926,20150909,20150921,20150105,20160325,20141014,20160506,20150918,20161006,20160926,20130308,20130514,20120905,20130904,20120309,20120603,20120824,20111130,20140610,20140430,20131126,20160122,20121016,20160331,20150423,20141002,20140425,20140926,20040323,20050222,20020419,20031231,20050303,20020313,20020329,20060413,20030509,20030627,20120420,20081202,20100726,20070907,20091119,20060802,19970527,20050426,20130620,20111104,20150814,20131025,20121113,19990722,20051006,20110901,20061128,19960807,20041217,20001228,20100111,20070330,19961003,19980410,20090324,20130613,20141230,20170428,20090610,20050524,20080822,20110124,20090109,20121105,20121220,20010409,20171222,20180117,20130225,20130211,20050504,20070402,20020116,20051221,20070523,20080425,20130626,20081219,20140120,20081125,20090129,20100415,19980601,20110803,19960322,20150311,20090911,20140528,20170926,20140128,20170331,20151215,19991202,20031218,20040213,20050523,20040624,20010626,20040603,20040927,20061011,20030214,20030228,20060718,20060728,20051007,20130613,20150731,20170614,20120510,20140306,20140924,20120709,20130626,20160513,20140502,20101115,20011025,20080618,20061221,20131230,20120911,20140806,20140425,20131002,20081017,20121019,20050113,20051220,19990430,19970124,20041015,20070611,20100830,20150306,19960315,19991011,20121019,20110614,20170515,20100212,19960531,20020928,20060605,20150731,20170109,20090513,20160526,20011214,20121024,20140919,20151203,20160922,20090302,19980122,20040108,20050324,20160229,20080422,20131212,20011128,20150907,20170214,20161102,20151214,20170926,20070215,20091016,20031222,20120312,20050919,20060210,20100511,20071031,20070627,20040123,20110916,20080721,19920721,19960405,19970701,19950605,19950719,19970124,20010411,20111207,20081128,20030829,20100628,20110715,20130823,20120810,20131216,20110228,20090114,20140923,19950718,20090414,19931118,20090722,20161207,19981120,20161110,20111025,20150618,20081022,20140120,20170406,20110325,20080902,20080229,20020812,20130906,20140203,20090505,20160924,20160130,20050519,20010305,20031211,20040924,20150526,20131017,20070315,20080513,20110209,20021003,20090217,20091013,20080122,20110421,20010208,20150914,20140709,20080605,20110901,20120906,20001115,20110430,20170515,20101103,20060322,20120515,20031211,20121023,20120612,20061211,20141021,20031231,20140714,20150603,20040724,20140317,20030212,20090625,20030917,20120209,20130107,20020412,20010220,20050830,19980505,20151112,20101122,20060227,20090518,20040831,20060221,20040819,20040422,20090217,20130306,20100105,20100707,20060720,20081001,20100326,20000321,20060407,20020131,20010706,20041208,20110310,20040811,20060707,19950626,20160629,20140929,20030115,20050114,20140724,20150917,20061128,20060707,20140219,20010202,20020320,20040224,20120215,20091125,20051025,20040623,20080425,20150721,19870826,20110922,20080303,19881108,20070501,20091007,20110712,20080618,20100430,20010718,20120120,20091007,20120613,20120716,20150310,20060609,20110919,20070726,20041117,19981117,20040623,20020617,20050615,20170220,20080325,20000906,20120209,20010302,20000707,20090130,20090505,20151218,20070620,20110506,20120416,20060822,20130822,20091125,20010314,20061120,20081001,20060831,20120206,20001017,20150404,19990201,20080724,20041215,20070621,20150331,20150529,20120515,20071004,20080425,20140725,19951214,20080122,20090630,20010906,19990310,20120516,20111111,20000211,20070919,20080215,20040308,20080619,20050209,20050923,20000218,20151008,20030510,20050808,20080721,20160217,20070731,19970602,20091221,20020109,20150529,20040322,20060503,20061128,20160924,20000303,20111005,20080618,20031106,20140203,19980303,20151102,20161206,20010518,20120412,20041215,20050209,20130925,20160804,20120716,19940630,19970523,20011228,19990305,20130927,20130815,20140120,20090731,20150717]},\"selected\":{\"id\":\"1046\",\"type\":\"Selection\"},\"selection_policy\":{\"id\":\"1047\",\"type\":\"UnionRenderers\"}},\"id\":\"1002\",\"type\":\"ColumnDataSource\"},{\"attributes\":{},\"id\":\"1043\",\"type\":\"BasicTickFormatter\"},{\"attributes\":{},\"id\":\"1016\",\"type\":\"BasicTicker\"},{\"attributes\":{\"below\":[{\"id\":\"1015\",\"type\":\"LinearAxis\"}],\"center\":[{\"id\":\"1019\",\"type\":\"Grid\"},{\"id\":\"1024\",\"type\":\"Grid\"}],\"left\":[{\"id\":\"1020\",\"type\":\"LinearAxis\"}],\"plot_height\":700,\"plot_width\":700,\"renderers\":[{\"id\":\"1036\",\"type\":\"GlyphRenderer\"}],\"title\":{\"id\":\"1005\",\"type\":\"Title\"},\"toolbar\":{\"id\":\"1028\",\"type\":\"Toolbar\"},\"x_range\":{\"id\":\"1007\",\"type\":\"DataRange1d\"},\"x_scale\":{\"id\":\"1011\",\"type\":\"LinearScale\"},\"y_range\":{\"id\":\"1009\",\"type\":\"DataRange1d\"},\"y_scale\":{\"id\":\"1013\",\"type\":\"LinearScale\"}},\"id\":\"1004\",\"subtype\":\"Figure\",\"type\":\"Plot\"},{\"attributes\":{\"ticker\":{\"id\":\"1016\",\"type\":\"BasicTicker\"}},\"id\":\"1019\",\"type\":\"Grid\"},{\"attributes\":{\"text\":\"Papers\"},\"id\":\"1005\",\"type\":\"Title\"},{\"attributes\":{},\"id\":\"1025\",\"type\":\"PanTool\"},{\"attributes\":{\"formatter\":{\"id\":\"1045\",\"type\":\"BasicTickFormatter\"},\"ticker\":{\"id\":\"1021\",\"type\":\"BasicTicker\"}},\"id\":\"1020\",\"type\":\"LinearAxis\"},{\"attributes\":{},\"id\":\"1026\",\"type\":\"WheelZoomTool\"},{\"attributes\":{},\"id\":\"1027\",\"type\":\"ResetTool\"},{\"attributes\":{\"args\":{\"source\":{\"id\":\"1002\",\"type\":\"ColumnDataSource\"}},\"code\":\"\\n    var data = source.data;\\n    var f = cb_obj.value\\n    x = data['x']\\n    y = data['y']\\n    colors = data['colors']\\n    alpha = data['alpha']\\n    title = data['title']\\n    year = data['year']\\n    size = data['size']\\n    for (i = 0; i < x.length; i++) {\\n        if (year[i] <= f) {\\n            alpha[i] = 0.9\\n            size[i] = 7\\n        } else {\\n            alpha[i] = 0.05\\n            size[i] = 4\\n        }\\n    }\\n    source.trigger('change');\\n\"},\"id\":\"1038\",\"type\":\"CustomJS\"},{\"attributes\":{},\"id\":\"1045\",\"type\":\"BasicTickFormatter\"},{\"attributes\":{\"callback\":null},\"id\":\"1009\",\"type\":\"DataRange1d\"},{\"attributes\":{\"active_drag\":\"auto\",\"active_inspect\":\"auto\",\"active_multi\":null,\"active_scroll\":\"auto\",\"active_tap\":\"auto\",\"tools\":[{\"id\":\"1003\",\"type\":\"HoverTool\"},{\"id\":\"1025\",\"type\":\"PanTool\"},{\"id\":\"1026\",\"type\":\"WheelZoomTool\"},{\"id\":\"1027\",\"type\":\"ResetTool\"}]},\"id\":\"1028\",\"type\":\"Toolbar\"},{\"attributes\":{},\"id\":\"1047\",\"type\":\"UnionRenderers\"},{\"attributes\":{\"callback\":null,\"end\":20180209,\"js_property_callbacks\":{\"change:value\":[{\"id\":\"1038\",\"type\":\"CustomJS\"}]},\"start\":2000,\"title\":\"Before year\",\"value\":2016},\"id\":\"1039\",\"type\":\"Slider\"},{\"attributes\":{\"callback\":null},\"id\":\"1007\",\"type\":\"DataRange1d\"},{\"attributes\":{\"data_source\":{\"id\":\"1002\",\"type\":\"ColumnDataSource\"},\"glyph\":{\"id\":\"1034\",\"type\":\"Circle\"},\"hover_glyph\":null,\"muted_glyph\":null,\"name\":\"df\",\"nonselection_glyph\":{\"id\":\"1035\",\"type\":\"Circle\"},\"selection_glyph\":null,\"view\":{\"id\":\"1037\",\"type\":\"CDSView\"}},\"id\":\"1036\",\"type\":\"GlyphRenderer\"}],\"root_ids\":[\"1040\"]},\"title\":\"Bokeh Application\",\"version\":\"1.2.0\"}};\n",
       "  var render_items = [{\"docid\":\"f1b2e692-7d04-4678-acb1-9e21672ef1a9\",\"roots\":{\"1040\":\"71d4342f-96db-44a3-b9fa-eae373615f22\"}}];\n",
       "  root.Bokeh.embed.embed_items_notebook(docs_json, render_items);\n",
       "\n",
       "  }\n",
       "  if (root.Bokeh !== undefined) {\n",
       "    embed_document(root);\n",
       "  } else {\n",
       "    var attempts = 0;\n",
       "    var timer = setInterval(function(root) {\n",
       "      if (root.Bokeh !== undefined) {\n",
       "        embed_document(root);\n",
       "        clearInterval(timer);\n",
       "      }\n",
       "      attempts++;\n",
       "      if (attempts > 100) {\n",
       "        console.log(\"Bokeh: ERROR: Unable to run BokehJS code because BokehJS library is missing\");\n",
       "        clearInterval(timer);\n",
       "      }\n",
       "    }, 10, root)\n",
       "  }\n",
       "})(window);"
      ],
      "application/vnd.bokehjs_exec.v0+json": ""
     },
     "metadata": {
      "application/vnd.bokehjs_exec.v0+json": {
       "id": "1040"
      }
     },
     "output_type": "display_data"
    }
   ],
   "source": [
    "show(layout)"
   ]
  },
  {
   "cell_type": "code",
   "execution_count": 13,
   "metadata": {},
   "outputs": [
    {
     "ename": "SyntaxError",
     "evalue": "invalid syntax (<ipython-input-13-67ed638b2367>, line 9)",
     "output_type": "error",
     "traceback": [
      "\u001b[1;36m  File \u001b[1;32m\"<ipython-input-13-67ed638b2367>\"\u001b[1;36m, line \u001b[1;32m9\u001b[0m\n\u001b[1;33m    ipython nbconvert notebook.ipynb\u001b[0m\n\u001b[1;37m                    ^\u001b[0m\n\u001b[1;31mSyntaxError\u001b[0m\u001b[1;31m:\u001b[0m invalid syntax\n"
     ]
    }
   ],
   "source": [
    "from bokeh.plotting import figure\n",
    "from bokeh.resources import CDN\n",
    "from bokeh.embed import file_html\n",
    "f = open(\"demofile.html\", \"w\")\n",
    "exporthtml = file_html(layout, CDN, \"my plot\")\n",
    "#print(exporthtml)\n",
    "#f.write(exporthtml)\n",
    "#f.close()\n",
    "ipython nbconvert notebook.ipynb"
   ]
  },
  {
   "cell_type": "code",
   "execution_count": null,
   "metadata": {},
   "outputs": [],
   "source": []
  },
  {
   "cell_type": "code",
   "execution_count": null,
   "metadata": {},
   "outputs": [],
   "source": []
  },
  {
   "cell_type": "code",
   "execution_count": null,
   "metadata": {},
   "outputs": [],
   "source": []
  }
 ],
 "metadata": {
  "kernelspec": {
   "display_name": "Python 3",
   "language": "python",
   "name": "python3"
  },
  "language_info": {
   "codemirror_mode": {
    "name": "ipython",
    "version": 3
   },
   "file_extension": ".py",
   "mimetype": "text/x-python",
   "name": "python",
   "nbconvert_exporter": "python",
   "pygments_lexer": "ipython3",
   "version": "3.7.3"
  }
 },
 "nbformat": 4,
 "nbformat_minor": 1
}
